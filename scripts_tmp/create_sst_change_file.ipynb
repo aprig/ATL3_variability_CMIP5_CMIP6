{
 "cells": [
  {
   "cell_type": "code",
   "execution_count": 1,
   "metadata": {},
   "outputs": [],
   "source": [
    "# Author : Arthur Prigent\n",
    "# Email : aprigent@geomar.de"
   ]
  },
  {
   "cell_type": "code",
   "execution_count": 4,
   "metadata": {},
   "outputs": [],
   "source": [
    "from load_librairies import *\n",
    "import xscale.signal.fitting as xsf\n",
    "import seaborn as sns\n",
    "from sklearn import linear_model\n",
    "path_fig = '/Users/aprigent/Documents/Thesis_GEOMAR/Projects/weakened_sst_variability_CMIP5/figures/'\n",
    "\n",
    "def is_jja(month):\n",
    "    return (month >= 6) & (month <= 8)\n",
    "\n",
    "def is_amj(month):\n",
    "    return (month >= 4) & (month <= 6)\n",
    "\n",
    "def is_mjj(month):\n",
    "    return (month >= 5) & (month <= 7)\n",
    "\n",
    "\n",
    "def is_june(month):\n",
    "    return (month == 6) \n",
    "def is_july(month):\n",
    "    return (month == 7) \n",
    "period_str_1 = 1950\n",
    "period_end_1 = 1999\n",
    "\n",
    "period_str_2 = 2050\n",
    "period_end_2 = 2099\n",
    "\n",
    "dir_rcp8_sst_cmip5 = '/Volumes/Arthur_disk/Thesis_GEOMAR/Data/CMIP5/rcp85/tos/atl3/'\n",
    "dir_hist_sst_cmip5 = '/Volumes/Arthur_disk/Thesis_GEOMAR/Data/CMIP5/hist/tos/atl3/'\n",
    "\n",
    "\n",
    "dir_hist_sst_cmip6 = '/Volumes/Arthur_disk2/Data/CMIP6/Omon/historical/tos/atl3/'\n",
    "dir_rcp8_sst_cmip6 = '/Volumes/Arthur_disk2/Data/CMIP6/Omon/ssp585/tos/atl3/'\n",
    "\n",
    "path_data = '/Users/aprigent/Documents/Thesis_GEOMAR/Projects/weakened_sst_variability_CMIP5/scripts/new_version/to_publish/data/'\n"
   ]
  },
  {
   "cell_type": "code",
   "execution_count": 5,
   "metadata": {},
   "outputs": [],
   "source": [
    "model = ['ACCESS1-0', 'ACCESS1-3','CMCC-CESM',\n",
    "         'CMCC-CMS','CMCC-CM','CNRM-CM5','CSIRO-Mk3-6-0',\n",
    "        'GFDL-CM3', 'GFDL-ESM2M','GISS-E2-H-CC','GISS-E2-H',\n",
    "        'GISS-E2-R-CC','GISS-E2-R','HadGEM2-CC','IPSL-CM5A-LR',\n",
    "        'IPSL-CM5A-MR','IPSL-CM5B-LR','MIROC-ESM-CHEM','MIROC-ESM',\n",
    "        'MIROC5','MPI-ESM-LR','MPI-ESM-MR','MRI-CGCM3','NorESM1-M']"
   ]
  },
  {
   "cell_type": "markdown",
   "metadata": {},
   "source": [
    "# CMIP5 "
   ]
  },
  {
   "cell_type": "code",
   "execution_count": 6,
   "metadata": {},
   "outputs": [
    {
     "name": "stderr",
     "output_type": "stream",
     "text": [
      "/Users/aprigent/miniconda3/envs/py3_std/lib/python3.7/site-packages/ipykernel_launcher.py:12: RuntimeWarning: Converting a CFTimeIndex with dates from a non-standard calendar, 'noleap', to a pandas.DatetimeIndex, which uses dates from the standard calendar.  This may lead to subtle errors in operations that depend on the length of time between dates.\n",
      "  if sys.path[0] == '':\n",
      "/Users/aprigent/miniconda3/envs/py3_std/lib/python3.7/site-packages/ipykernel_launcher.py:28: RuntimeWarning: Converting a CFTimeIndex with dates from a non-standard calendar, 'noleap', to a pandas.DatetimeIndex, which uses dates from the standard calendar.  This may lead to subtle errors in operations that depend on the length of time between dates.\n",
      "/Users/aprigent/miniconda3/envs/py3_std/lib/python3.7/site-packages/ipykernel_launcher.py:12: RuntimeWarning: Converting a CFTimeIndex with dates from a non-standard calendar, 'noleap', to a pandas.DatetimeIndex, which uses dates from the standard calendar.  This may lead to subtle errors in operations that depend on the length of time between dates.\n",
      "  if sys.path[0] == '':\n",
      "/Users/aprigent/miniconda3/envs/py3_std/lib/python3.7/site-packages/ipykernel_launcher.py:28: RuntimeWarning: Converting a CFTimeIndex with dates from a non-standard calendar, 'noleap', to a pandas.DatetimeIndex, which uses dates from the standard calendar.  This may lead to subtle errors in operations that depend on the length of time between dates.\n",
      "/Users/aprigent/miniconda3/envs/py3_std/lib/python3.7/site-packages/ipykernel_launcher.py:12: RuntimeWarning: Converting a CFTimeIndex with dates from a non-standard calendar, 'noleap', to a pandas.DatetimeIndex, which uses dates from the standard calendar.  This may lead to subtle errors in operations that depend on the length of time between dates.\n",
      "  if sys.path[0] == '':\n",
      "/Users/aprigent/miniconda3/envs/py3_std/lib/python3.7/site-packages/ipykernel_launcher.py:28: RuntimeWarning: Converting a CFTimeIndex with dates from a non-standard calendar, 'noleap', to a pandas.DatetimeIndex, which uses dates from the standard calendar.  This may lead to subtle errors in operations that depend on the length of time between dates.\n",
      "/Users/aprigent/miniconda3/envs/py3_std/lib/python3.7/site-packages/ipykernel_launcher.py:12: RuntimeWarning: Converting a CFTimeIndex with dates from a non-standard calendar, 'noleap', to a pandas.DatetimeIndex, which uses dates from the standard calendar.  This may lead to subtle errors in operations that depend on the length of time between dates.\n",
      "  if sys.path[0] == '':\n",
      "/Users/aprigent/miniconda3/envs/py3_std/lib/python3.7/site-packages/ipykernel_launcher.py:28: RuntimeWarning: Converting a CFTimeIndex with dates from a non-standard calendar, 'noleap', to a pandas.DatetimeIndex, which uses dates from the standard calendar.  This may lead to subtle errors in operations that depend on the length of time between dates.\n",
      "/Users/aprigent/miniconda3/envs/py3_std/lib/python3.7/site-packages/ipykernel_launcher.py:12: RuntimeWarning: Converting a CFTimeIndex with dates from a non-standard calendar, 'noleap', to a pandas.DatetimeIndex, which uses dates from the standard calendar.  This may lead to subtle errors in operations that depend on the length of time between dates.\n",
      "  if sys.path[0] == '':\n",
      "/Users/aprigent/miniconda3/envs/py3_std/lib/python3.7/site-packages/ipykernel_launcher.py:28: RuntimeWarning: Converting a CFTimeIndex with dates from a non-standard calendar, 'noleap', to a pandas.DatetimeIndex, which uses dates from the standard calendar.  This may lead to subtle errors in operations that depend on the length of time between dates.\n",
      "/Users/aprigent/miniconda3/envs/py3_std/lib/python3.7/site-packages/ipykernel_launcher.py:12: RuntimeWarning: Converting a CFTimeIndex with dates from a non-standard calendar, 'noleap', to a pandas.DatetimeIndex, which uses dates from the standard calendar.  This may lead to subtle errors in operations that depend on the length of time between dates.\n",
      "  if sys.path[0] == '':\n",
      "/Users/aprigent/miniconda3/envs/py3_std/lib/python3.7/site-packages/ipykernel_launcher.py:28: RuntimeWarning: Converting a CFTimeIndex with dates from a non-standard calendar, 'noleap', to a pandas.DatetimeIndex, which uses dates from the standard calendar.  This may lead to subtle errors in operations that depend on the length of time between dates.\n",
      "/Users/aprigent/miniconda3/envs/py3_std/lib/python3.7/site-packages/ipykernel_launcher.py:12: RuntimeWarning: Converting a CFTimeIndex with dates from a non-standard calendar, 'noleap', to a pandas.DatetimeIndex, which uses dates from the standard calendar.  This may lead to subtle errors in operations that depend on the length of time between dates.\n",
      "  if sys.path[0] == '':\n",
      "/Users/aprigent/miniconda3/envs/py3_std/lib/python3.7/site-packages/ipykernel_launcher.py:28: RuntimeWarning: Converting a CFTimeIndex with dates from a non-standard calendar, 'noleap', to a pandas.DatetimeIndex, which uses dates from the standard calendar.  This may lead to subtle errors in operations that depend on the length of time between dates.\n",
      "/Users/aprigent/miniconda3/envs/py3_std/lib/python3.7/site-packages/ipykernel_launcher.py:12: RuntimeWarning: Converting a CFTimeIndex with dates from a non-standard calendar, '360_day', to a pandas.DatetimeIndex, which uses dates from the standard calendar.  This may lead to subtle errors in operations that depend on the length of time between dates.\n",
      "  if sys.path[0] == '':\n",
      "/Users/aprigent/miniconda3/envs/py3_std/lib/python3.7/site-packages/ipykernel_launcher.py:28: RuntimeWarning: Converting a CFTimeIndex with dates from a non-standard calendar, '360_day', to a pandas.DatetimeIndex, which uses dates from the standard calendar.  This may lead to subtle errors in operations that depend on the length of time between dates.\n",
      "/Users/aprigent/miniconda3/envs/py3_std/lib/python3.7/site-packages/ipykernel_launcher.py:12: RuntimeWarning: Converting a CFTimeIndex with dates from a non-standard calendar, 'noleap', to a pandas.DatetimeIndex, which uses dates from the standard calendar.  This may lead to subtle errors in operations that depend on the length of time between dates.\n",
      "  if sys.path[0] == '':\n",
      "/Users/aprigent/miniconda3/envs/py3_std/lib/python3.7/site-packages/ipykernel_launcher.py:28: RuntimeWarning: Converting a CFTimeIndex with dates from a non-standard calendar, 'noleap', to a pandas.DatetimeIndex, which uses dates from the standard calendar.  This may lead to subtle errors in operations that depend on the length of time between dates.\n",
      "/Users/aprigent/miniconda3/envs/py3_std/lib/python3.7/site-packages/ipykernel_launcher.py:12: RuntimeWarning: Converting a CFTimeIndex with dates from a non-standard calendar, 'noleap', to a pandas.DatetimeIndex, which uses dates from the standard calendar.  This may lead to subtle errors in operations that depend on the length of time between dates.\n",
      "  if sys.path[0] == '':\n",
      "/Users/aprigent/miniconda3/envs/py3_std/lib/python3.7/site-packages/ipykernel_launcher.py:28: RuntimeWarning: Converting a CFTimeIndex with dates from a non-standard calendar, 'noleap', to a pandas.DatetimeIndex, which uses dates from the standard calendar.  This may lead to subtle errors in operations that depend on the length of time between dates.\n",
      "/Users/aprigent/miniconda3/envs/py3_std/lib/python3.7/site-packages/ipykernel_launcher.py:12: RuntimeWarning: Converting a CFTimeIndex with dates from a non-standard calendar, 'noleap', to a pandas.DatetimeIndex, which uses dates from the standard calendar.  This may lead to subtle errors in operations that depend on the length of time between dates.\n",
      "  if sys.path[0] == '':\n",
      "/Users/aprigent/miniconda3/envs/py3_std/lib/python3.7/site-packages/ipykernel_launcher.py:28: RuntimeWarning: Converting a CFTimeIndex with dates from a non-standard calendar, 'noleap', to a pandas.DatetimeIndex, which uses dates from the standard calendar.  This may lead to subtle errors in operations that depend on the length of time between dates.\n",
      "/Users/aprigent/miniconda3/envs/py3_std/lib/python3.7/site-packages/ipykernel_launcher.py:12: RuntimeWarning: Converting a CFTimeIndex with dates from a non-standard calendar, 'noleap', to a pandas.DatetimeIndex, which uses dates from the standard calendar.  This may lead to subtle errors in operations that depend on the length of time between dates.\n",
      "  if sys.path[0] == '':\n",
      "/Users/aprigent/miniconda3/envs/py3_std/lib/python3.7/site-packages/ipykernel_launcher.py:28: RuntimeWarning: Converting a CFTimeIndex with dates from a non-standard calendar, 'noleap', to a pandas.DatetimeIndex, which uses dates from the standard calendar.  This may lead to subtle errors in operations that depend on the length of time between dates.\n"
     ]
    },
    {
     "name": "stderr",
     "output_type": "stream",
     "text": [
      "/Users/aprigent/miniconda3/envs/py3_std/lib/python3.7/site-packages/ipykernel_launcher.py:12: RuntimeWarning: Converting a CFTimeIndex with dates from a non-standard calendar, 'noleap', to a pandas.DatetimeIndex, which uses dates from the standard calendar.  This may lead to subtle errors in operations that depend on the length of time between dates.\n",
      "  if sys.path[0] == '':\n",
      "/Users/aprigent/miniconda3/envs/py3_std/lib/python3.7/site-packages/ipykernel_launcher.py:28: RuntimeWarning: Converting a CFTimeIndex with dates from a non-standard calendar, 'noleap', to a pandas.DatetimeIndex, which uses dates from the standard calendar.  This may lead to subtle errors in operations that depend on the length of time between dates.\n"
     ]
    }
   ],
   "source": [
    "sst_changes_cmip5 = np.zeros((len(model)))\n",
    "diff_sst_changes_cmip5_JJ_hist = np.zeros((len(model)))\n",
    "diff_sst_changes_cmip5_JJ_rcp8 = np.zeros((len(model)))\n",
    "for i in range(len(model)):\n",
    "\n",
    "    sst_hist = xr.open_dataset(\n",
    "        dir_hist_sst_cmip5+'tos_Omon_'+model[i]+'_historical_r1i1p1_187001-200012_1deg_atl3.nc')\n",
    "    try:\n",
    "\n",
    "        sst_hist = sst_hist.sel(time=slice(datetime(period_str_1, 1, 1), datetime(period_end_1, 12, 31)))\n",
    "    except TypeError:\n",
    "        sst_hist['time'] = sst_hist.indexes['time'].to_datetimeindex()\n",
    "        sst_hist = sst_hist.sel(time=slice(datetime(period_str_1, 1, 1), datetime(period_end_1, 12, 31)))\n",
    "    \n",
    "    sst_hist_jja = sst_hist.sel(time=is_jja(sst_hist['time.month']))\n",
    "    sst_hist_jun = sst_hist.sel(time=is_june(sst_hist['time.month'])) \n",
    "    sst_hist_jul = sst_hist.sel(time=is_july(sst_hist['time.month'])) \n",
    "    diff_sst_changes_cmip5_JJ_hist[i] = (sst_hist_jun.tos.mean(dim='lon').mean(dim='lat').mean(dim='time') -\n",
    "                                sst_hist_jul.tos.mean(dim='lon').mean(dim='lat').mean(dim='time'))\n",
    "    \n",
    "        \n",
    "    sst_rcp8 = xr.open_dataset(\n",
    "        dir_rcp8_sst_cmip5+'tos_Omon_'+model[i]+'_rcp85_r1i1p1_201001-210012_1deg_atl3.nc')\n",
    "    try:\n",
    "\n",
    "        sst_rcp8 = sst_rcp8.sel(time=slice(datetime(period_str_2, 1, 1), datetime(period_end_2, 12, 31)))\n",
    "    except TypeError:\n",
    "        sst_rcp8['time'] = sst_rcp8.indexes['time'].to_datetimeindex()\n",
    "        sst_rcp8 = sst_rcp8.sel(time=slice(datetime(period_str_2, 1, 1), datetime(period_end_2, 12, 31))) \n",
    "    sst_rcp8_jja = sst_rcp8.sel(time=is_jja(sst_rcp8['time.month'])) \n",
    "    sst_rcp8_jun = sst_rcp8.sel(time=is_june(sst_rcp8['time.month'])) \n",
    "    sst_rcp8_jul = sst_rcp8.sel(time=is_july(sst_rcp8['time.month'])) \n",
    "    \n",
    "    \n",
    "    diff_sst_changes_cmip5_JJ_rcp8[i] = (sst_rcp8_jun.tos.mean(dim='lon').mean(dim='lat').mean(dim='time') -\n",
    "                                sst_rcp8_jul.tos.mean(dim='lon').mean(dim='lat').mean(dim='time'))\n",
    "    \n",
    "    \n",
    "    sst_changes_cmip5[i] = (sst_rcp8_jja.tos.mean(dim='lon').mean(dim='lat').mean(dim='time')  - \n",
    "                            sst_hist_jja.tos.mean(dim='lon').mean(dim='lat').mean(dim='time'))"
   ]
  },
  {
   "cell_type": "code",
   "execution_count": 7,
   "metadata": {},
   "outputs": [],
   "source": [
    "\n",
    "sst_change_jja_cmip5= xr.Dataset({'sst': (['product'],sst_changes_cmip5),\n",
    "                                  'diff_sst_JJ_hist': (['product'],diff_sst_changes_cmip5_JJ_hist),\n",
    "                                  'diff_sst_JJ_rcp8': (['product'],diff_sst_changes_cmip5_JJ_rcp8)\n",
    "                       }\n",
    "                       ,coords={'product':model})\n",
    "\n",
    "sst_change_jja_cmip5.to_netcdf(path_data+'sst_change_atl3_CMIP5_jja.nc')"
   ]
  },
  {
   "cell_type": "markdown",
   "metadata": {},
   "source": [
    "# CMIP6 "
   ]
  },
  {
   "cell_type": "code",
   "execution_count": 8,
   "metadata": {},
   "outputs": [],
   "source": [
    "model_cmip6 =  ['ACCESS-CM2',  'ACCESS-ESM1-5', 'BCC-CSM2-MR',  'CAMS-CSM1-0', 'CanESM5', 'EC-Earth3',\n",
    "  'EC-Earth3-Veg','GFDL-ESM4', 'INM-CM4-8', 'INM-CM5-0',  'IPSL-CM6A-LR', 'MIROC6',\n",
    "  'MPI-ESM1-2-HR', 'MPI-ESM1-2-LR', 'MRI-ESM2-0', 'NESM3']"
   ]
  },
  {
   "cell_type": "code",
   "execution_count": 9,
   "metadata": {},
   "outputs": [
    {
     "name": "stderr",
     "output_type": "stream",
     "text": [
      "/Users/aprigent/miniconda3/envs/py3_std/lib/python3.7/site-packages/ipykernel_launcher.py:13: RuntimeWarning: Converting a CFTimeIndex with dates from a non-standard calendar, 'noleap', to a pandas.DatetimeIndex, which uses dates from the standard calendar.  This may lead to subtle errors in operations that depend on the length of time between dates.\n",
      "  del sys.path[0]\n",
      "/Users/aprigent/miniconda3/envs/py3_std/lib/python3.7/site-packages/ipykernel_launcher.py:30: RuntimeWarning: Converting a CFTimeIndex with dates from a non-standard calendar, 'noleap', to a pandas.DatetimeIndex, which uses dates from the standard calendar.  This may lead to subtle errors in operations that depend on the length of time between dates.\n",
      "/Users/aprigent/miniconda3/envs/py3_std/lib/python3.7/site-packages/ipykernel_launcher.py:13: RuntimeWarning: Converting a CFTimeIndex with dates from a non-standard calendar, 'noleap', to a pandas.DatetimeIndex, which uses dates from the standard calendar.  This may lead to subtle errors in operations that depend on the length of time between dates.\n",
      "  del sys.path[0]\n",
      "/Users/aprigent/miniconda3/envs/py3_std/lib/python3.7/site-packages/ipykernel_launcher.py:30: RuntimeWarning: Converting a CFTimeIndex with dates from a non-standard calendar, 'noleap', to a pandas.DatetimeIndex, which uses dates from the standard calendar.  This may lead to subtle errors in operations that depend on the length of time between dates.\n",
      "/Users/aprigent/miniconda3/envs/py3_std/lib/python3.7/site-packages/ipykernel_launcher.py:13: RuntimeWarning: Converting a CFTimeIndex with dates from a non-standard calendar, 'noleap', to a pandas.DatetimeIndex, which uses dates from the standard calendar.  This may lead to subtle errors in operations that depend on the length of time between dates.\n",
      "  del sys.path[0]\n",
      "/Users/aprigent/miniconda3/envs/py3_std/lib/python3.7/site-packages/ipykernel_launcher.py:30: RuntimeWarning: Converting a CFTimeIndex with dates from a non-standard calendar, 'noleap', to a pandas.DatetimeIndex, which uses dates from the standard calendar.  This may lead to subtle errors in operations that depend on the length of time between dates.\n",
      "/Users/aprigent/miniconda3/envs/py3_std/lib/python3.7/site-packages/ipykernel_launcher.py:13: RuntimeWarning: Converting a CFTimeIndex with dates from a non-standard calendar, 'noleap', to a pandas.DatetimeIndex, which uses dates from the standard calendar.  This may lead to subtle errors in operations that depend on the length of time between dates.\n",
      "  del sys.path[0]\n",
      "/Users/aprigent/miniconda3/envs/py3_std/lib/python3.7/site-packages/ipykernel_launcher.py:30: RuntimeWarning: Converting a CFTimeIndex with dates from a non-standard calendar, 'noleap', to a pandas.DatetimeIndex, which uses dates from the standard calendar.  This may lead to subtle errors in operations that depend on the length of time between dates.\n",
      "/Users/aprigent/miniconda3/envs/py3_std/lib/python3.7/site-packages/ipykernel_launcher.py:13: RuntimeWarning: Converting a CFTimeIndex with dates from a non-standard calendar, 'noleap', to a pandas.DatetimeIndex, which uses dates from the standard calendar.  This may lead to subtle errors in operations that depend on the length of time between dates.\n",
      "  del sys.path[0]\n",
      "/Users/aprigent/miniconda3/envs/py3_std/lib/python3.7/site-packages/ipykernel_launcher.py:30: RuntimeWarning: Converting a CFTimeIndex with dates from a non-standard calendar, 'noleap', to a pandas.DatetimeIndex, which uses dates from the standard calendar.  This may lead to subtle errors in operations that depend on the length of time between dates.\n",
      "/Users/aprigent/miniconda3/envs/py3_std/lib/python3.7/site-packages/ipykernel_launcher.py:13: RuntimeWarning: Converting a CFTimeIndex with dates from a non-standard calendar, 'noleap', to a pandas.DatetimeIndex, which uses dates from the standard calendar.  This may lead to subtle errors in operations that depend on the length of time between dates.\n",
      "  del sys.path[0]\n",
      "/Users/aprigent/miniconda3/envs/py3_std/lib/python3.7/site-packages/ipykernel_launcher.py:30: RuntimeWarning: Converting a CFTimeIndex with dates from a non-standard calendar, 'noleap', to a pandas.DatetimeIndex, which uses dates from the standard calendar.  This may lead to subtle errors in operations that depend on the length of time between dates.\n",
      "/Users/aprigent/miniconda3/envs/py3_std/lib/python3.7/site-packages/ipykernel_launcher.py:13: RuntimeWarning: Converting a CFTimeIndex with dates from a non-standard calendar, 'noleap', to a pandas.DatetimeIndex, which uses dates from the standard calendar.  This may lead to subtle errors in operations that depend on the length of time between dates.\n",
      "  del sys.path[0]\n",
      "/Users/aprigent/miniconda3/envs/py3_std/lib/python3.7/site-packages/ipykernel_launcher.py:30: RuntimeWarning: Converting a CFTimeIndex with dates from a non-standard calendar, 'noleap', to a pandas.DatetimeIndex, which uses dates from the standard calendar.  This may lead to subtle errors in operations that depend on the length of time between dates.\n"
     ]
    }
   ],
   "source": [
    "sst_changes_cmip6 = np.zeros((len(model_cmip6)))\n",
    "diff_sst_changes_cmip6_JJ_hist = np.zeros((len(model_cmip6)))\n",
    "diff_sst_changes_cmip6_JJ_rcp8 = np.zeros((len(model_cmip6)))\n",
    "\n",
    "for i in range(len(model_cmip6)):\n",
    "\n",
    "    sst_hist = xr.open_dataset(\n",
    "        dir_hist_sst_cmip6+'tos_Omon_'+model_cmip6[i]+'_historical_r1i1p1f1_187001-201412_1deg_atl3.nc')\n",
    "    try:\n",
    "\n",
    "        sst_hist = sst_hist.sel(time=slice(datetime(period_str_1, 1, 1), datetime(period_end_1, 12, 31)))\n",
    "    except TypeError:\n",
    "        sst_hist['time'] = sst_hist.indexes['time'].to_datetimeindex()\n",
    "        sst_hist = sst_hist.sel(time=slice(datetime(period_str_1, 1, 1), datetime(period_end_1, 12, 31)))\n",
    "    \n",
    "    sst_hist_jja = sst_hist.sel(time=is_jja(sst_hist['time.month']))\n",
    "    sst_hist_jun = sst_hist.sel(time=is_june(sst_hist['time.month'])) \n",
    "    sst_hist_jul = sst_hist.sel(time=is_july(sst_hist['time.month'])) \n",
    "    \n",
    "    diff_sst_changes_cmip6_JJ_hist[i] = (sst_hist_jun.tos.mean(dim='lon').mean(dim='lat').mean(dim='time') -\n",
    "                                sst_hist_jul.tos.mean(dim='lon').mean(dim='lat').mean(dim='time'))\n",
    "        \n",
    "        \n",
    "    sst_rcp8 = xr.open_dataset(\n",
    "        dir_rcp8_sst_cmip6+'tos_Omon_'+model_cmip6[i]+'_ssp585_r1i1p1f1_201501-209912_1deg_atl3.nc')\n",
    "    try:\n",
    "\n",
    "        sst_rcp8 = sst_rcp8.sel(time=slice(datetime(period_str_2, 1, 1), datetime(period_end_2, 12, 31)))\n",
    "    except TypeError:\n",
    "        sst_rcp8['time'] = sst_rcp8.indexes['time'].to_datetimeindex()\n",
    "        sst_rcp8 = sst_rcp8.sel(time=slice(datetime(period_str_2, 1, 1), datetime(period_end_2, 12, 31))) \n",
    "    sst_rcp8_jja = sst_rcp8.sel(time=is_jja(sst_rcp8['time.month'])) \n",
    "    \n",
    "    sst_rcp8_jja = sst_rcp8.sel(time=is_jja(sst_rcp8['time.month'])) \n",
    "    sst_rcp8_jun = sst_rcp8.sel(time=is_june(sst_rcp8['time.month'])) \n",
    "    sst_rcp8_jul = sst_rcp8.sel(time=is_july(sst_rcp8['time.month'])) \n",
    "    \n",
    "    \n",
    "    diff_sst_changes_cmip6_JJ_rcp8[i] = (sst_rcp8_jun.tos.mean(dim='lon').mean(dim='lat').mean(dim='time') -\n",
    "                                sst_rcp8_jul.tos.mean(dim='lon').mean(dim='lat').mean(dim='time'))\n",
    "    \n",
    "    \n",
    "    sst_changes_cmip6[i] = sst_rcp8_jja.tos.mean(dim='lon').mean(dim='lat').mean(dim='time')  - sst_hist_jja.tos.mean(dim='lon').mean(dim='lat').mean(dim='time')"
   ]
  },
  {
   "cell_type": "code",
   "execution_count": 11,
   "metadata": {},
   "outputs": [],
   "source": [
    "\n",
    "sst_change_jja_cmip6= xr.Dataset({'sst': (['product'],sst_changes_cmip6),\n",
    "                                  'diff_sst_JJ_hist': (['product'],diff_sst_changes_cmip6_JJ_hist),\n",
    "                                  'diff_sst_JJ_rcp8': (['product'],diff_sst_changes_cmip6_JJ_rcp8)\n",
    "                       }\n",
    "                       ,coords={'product':model_cmip6})\n",
    "\n",
    "sst_change_jja_cmip6.to_netcdf(path_data+'sst_change_atl3_CMIP6_jja.nc')"
   ]
  },
  {
   "cell_type": "code",
   "execution_count": null,
   "metadata": {},
   "outputs": [],
   "source": []
  }
 ],
 "metadata": {
  "kernelspec": {
   "display_name": "Python 3 (ipykernel)",
   "language": "python",
   "name": "python3"
  },
  "language_info": {
   "codemirror_mode": {
    "name": "ipython",
    "version": 3
   },
   "file_extension": ".py",
   "mimetype": "text/x-python",
   "name": "python",
   "nbconvert_exporter": "python",
   "pygments_lexer": "ipython3",
   "version": "3.7.10"
  }
 },
 "nbformat": 4,
 "nbformat_minor": 4
}
