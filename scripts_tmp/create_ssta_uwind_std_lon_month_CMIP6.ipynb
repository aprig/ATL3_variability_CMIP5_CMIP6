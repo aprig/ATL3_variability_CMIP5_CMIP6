{
 "cells": [
  {
   "cell_type": "code",
   "execution_count": 1,
   "metadata": {},
   "outputs": [],
   "source": [
    "# Author : Arthur Prigent\n",
    "# Email : aprigent@geomar.de"
   ]
  },
  {
   "cell_type": "code",
   "execution_count": 1,
   "metadata": {},
   "outputs": [],
   "source": [
    "from load_librairies import *\n",
    "import xscale.signal.fitting as xsf\n",
    "dir_hist_sst = '/Volumes/Arthur_disk2/Data/CMIP6/Omon/historical/tos/mon/'\n",
    "dir_hist_uas = '/Volumes/Arthur_disk2/Data/CMIP6/Amon/historical/uas/mon/'\n",
    "dir_ssp585_sst = '/Volumes/Arthur_disk2/Data/CMIP6/Omon/ssp585/tos/mon/'\n",
    "dir_ssp585_uas = '/Volumes/Arthur_disk2/Data/CMIP6/Amon/ssp585/uas/mon/'\n",
    "dir_ssp126_sst = '/Volumes/Arthur_disk2/Data/CMIP6/Omon/ssp126/tos/mon/'\n",
    "\n",
    "\n",
    "from mpl_toolkits.axes_grid1.inset_locator import inset_axes\n",
    "import warnings\n",
    "warnings.filterwarnings('ignore')\n",
    "lon_min = -40\n",
    "lon_max = 5\n",
    "lat_min = -3\n",
    "lat_max = 3\n",
    "\n",
    "period_str_1 = 1950\n",
    "period_end_1 = 1999\n",
    "\n",
    "period_str_2 = 2050\n",
    "period_end_2 = 2099\n",
    "now = datetime.now()\n",
    "date_time = now.strftime(\"%d/%m/%Y\")\n",
    "def is_jja(month):\n",
    "    return (month >= 6) & (month <= 8)\n",
    "path_fig = '/Users/aprigent/Documents/Thesis_GEOMAR/Projects/weakened_sst_variability_CMIP5/figures/'\n",
    "path_data = '/Users/aprigent/Documents/Thesis_GEOMAR/Projects/weakened_sst_variability_CMIP5/scripts/new_version/to_publish/data/'"
   ]
  },
  {
   "cell_type": "code",
   "execution_count": 2,
   "metadata": {},
   "outputs": [],
   "source": [
    "model =  ['ACCESS-CM2',  'ACCESS-ESM1-5', 'BCC-CSM2-MR',  'CAMS-CSM1-0', 'CanESM5', 'EC-Earth3',\n",
    "  'EC-Earth3-Veg','GFDL-ESM4', 'INM-CM4-8', 'INM-CM5-0',  'IPSL-CM6A-LR', 'MIROC6',\n",
    "  'MPI-ESM1-2-HR', 'MPI-ESM1-2-LR', 'MRI-ESM2-0', 'NESM3']"
   ]
  },
  {
   "cell_type": "markdown",
   "metadata": {},
   "source": [
    "# SST"
   ]
  },
  {
   "cell_type": "code",
   "execution_count": 3,
   "metadata": {
    "scrolled": true
   },
   "outputs": [
    {
     "name": "stdout",
     "output_type": "stream",
     "text": [
      "ACCESS-CM2\n",
      "ACCESS-ESM1-5\n",
      "BCC-CSM2-MR\n",
      "CAMS-CSM1-0\n",
      "CanESM5\n",
      "EC-Earth3\n",
      "EC-Earth3-Veg\n",
      "GFDL-ESM4\n",
      "INM-CM4-8\n",
      "INM-CM5-0\n",
      "IPSL-CM6A-LR\n",
      "MIROC6\n",
      "MPI-ESM1-2-HR\n",
      "MPI-ESM1-2-LR\n",
      "MRI-ESM2-0\n",
      "NESM3\n"
     ]
    }
   ],
   "source": [
    "ssta_std_eq_model_1 = np.ones((len(model),12,46))*np.nan\n",
    "ssta_std_eq_model_2 = np.ones((len(model),12,46))*np.nan\n",
    "model_id_sst = []\n",
    "for i in range(len(model)):\n",
    "    print(model[i])\n",
    "    nc_tmp = xr.open_dataset(dir_hist_sst+'tos_Omon_'+model[i]+'_historical_r1i1p1f1_187001-201412_1deg.nc')\n",
    "    sst_tmp_1 = nc_tmp.tos[:]\n",
    "    try:\n",
    "\n",
    "        sst_tmp_1 = sst_tmp_1.sel(time=slice(datetime(period_str_1, 1, 1), datetime(period_end_1, 12, 31)))\n",
    "    except TypeError:\n",
    "        \n",
    "        sst_tmp_1['time'] = sst_tmp_1.indexes['time'].to_datetimeindex()\n",
    "        sst_tmp_1 = sst_tmp_1.sel(time=slice(datetime(period_str_1, 1, 1), datetime(period_end_1, 12, 31)))\n",
    "    \n",
    "    \n",
    "    sst_tmp_1 = xr.concat([sst_tmp_1[ :,:, 180:], sst_tmp_1[:, :, :180]], dim='lon')\n",
    "    sst_tmp_1.coords['lon'] = (sst_tmp_1.coords['lon'] + 180) % 360 - 180\n",
    "    sst_1 = Atools.data_sub(sst_tmp_1,lon_min,lon_max,lat_min,lat_max)\n",
    "    sst_1 = sst_1.chunk(chunks=None)\n",
    "    sst_dtd_1 = xsf.detrend(sst_1[:],dim='time',type='linear')\n",
    "    ssta_eq_1,_ = Atools.ano_norm_t(sst_dtd_1.load())\n",
    "    ssta_std_1 = ssta_eq_1.groupby('time.month').std(dim='time')\n",
    "    ssta_std_eq_1 = ssta_std_1.mean(dim='lat')\n",
    "    \n",
    "    ssta_std_eq_model_1[i,:,:] = ssta_std_eq_1.values\n",
    "    \n",
    "    #################################################################\n",
    "    \n",
    "    nc_tmp = xr.open_dataset(dir_ssp585_sst+'tos_Omon_'+model[i]+'_ssp585_r1i1p1f1_201501-209912_1deg.nc')\n",
    "    sst_tmp_2 = nc_tmp.tos[:]\n",
    "    try:\n",
    "\n",
    "        sst_tmp_2 = sst_tmp_2.sel(time=slice(datetime(period_str_2, 1, 1), datetime(period_end_2, 12, 31)))\n",
    "    except TypeError:\n",
    "        \n",
    "        sst_tmp_2['time'] = sst_tmp_2.indexes['time'].to_datetimeindex()\n",
    "        sst_tmp_2 = sst_tmp_2.sel(time=slice(datetime(period_str_2, 1, 1), datetime(period_end_2, 12, 31)))\n",
    "    \n",
    "    \n",
    "    sst_tmp_2 = xr.concat([sst_tmp_2[ :,:, 180:], sst_tmp_2[:, :, :180]], dim='lon')\n",
    "    sst_tmp_2.coords['lon'] = (sst_tmp_2.coords['lon'] + 180) % 360 - 180\n",
    "    sst_2 = Atools.data_sub(sst_tmp_2,lon_min,lon_max,lat_min,lat_max)\n",
    "    sst_2 = sst_2.chunk(chunks=None)\n",
    "    sst_dtd_2 = xsf.detrend(sst_2[:],dim='time',type='linear')\n",
    "    ssta_eq_2,_ = Atools.ano_norm_t(sst_dtd_2.load())\n",
    "    ssta_std_2 = ssta_eq_2.groupby('time.month').std(dim='time')\n",
    "    ssta_std_eq_2 = ssta_std_2.mean(dim='lat')\n",
    "    \n",
    "    ssta_std_eq_model_2[i,:,:] = ssta_std_eq_2.values\n",
    "        "
   ]
  },
  {
   "cell_type": "markdown",
   "metadata": {},
   "source": [
    "# Uwind"
   ]
  },
  {
   "cell_type": "code",
   "execution_count": 4,
   "metadata": {
    "scrolled": true
   },
   "outputs": [
    {
     "name": "stdout",
     "output_type": "stream",
     "text": [
      "ACCESS-CM2\n",
      "ACCESS-ESM1-5\n",
      "BCC-CSM2-MR\n",
      "CAMS-CSM1-0\n",
      "CanESM5\n",
      "EC-Earth3\n",
      "EC-Earth3-Veg\n",
      "GFDL-ESM4\n",
      "INM-CM4-8\n",
      "INM-CM5-0\n",
      "IPSL-CM6A-LR\n",
      "MIROC6\n",
      "MPI-ESM1-2-HR\n",
      "MPI-ESM1-2-LR\n",
      "MRI-ESM2-0\n",
      "NESM3\n"
     ]
    }
   ],
   "source": [
    "uasa_std_eq_model_1 = np.ones((len(model),12,46))*np.nan\n",
    "uasa_std_eq_model_2 = np.ones((len(model),12,46))*np.nan\n",
    "model_id_uas = []\n",
    "for i in range(len(model)):\n",
    "    print(model[i])\n",
    "    nc_tmp = xr.open_dataset(dir_hist_uas+'uas_Amon_'+model[i]+'_historical_r1i1p1f1_187001-201412_1deg.nc')\n",
    "    uas_tmp_1 = nc_tmp.uas[:]\n",
    "    try:\n",
    "\n",
    "        uas_tmp_1 = uas_tmp_1.sel(time=slice(datetime(period_str_1, 1, 1), datetime(period_end_1, 12, 31)))\n",
    "    except TypeError:\n",
    "        \n",
    "        uas_tmp_1['time'] = uas_tmp_1.indexes['time'].to_datetimeindex()\n",
    "        uas_tmp_1 = uas_tmp_1.sel(time=slice(datetime(period_str_1, 1, 1), datetime(period_end_1, 12, 31)))\n",
    "    \n",
    "    \n",
    "    uas_tmp_1 = xr.concat([uas_tmp_1[ :,:, 180:], uas_tmp_1[:, :, :180]], dim='lon')\n",
    "    uas_tmp_1.coords['lon'] = (uas_tmp_1.coords['lon'] + 180) % 360 - 180\n",
    "    uas_1 = Atools.data_sub(uas_tmp_1,lon_min,lon_max,lat_min,lat_max)\n",
    "    uas_1 = uas_1.chunk(chunks=None)\n",
    "    uas_dtd_1 = xsf.detrend(uas_1[:],dim='time',type='linear')\n",
    "    uasa_eq_1,_ = Atools.ano_norm_t(uas_dtd_1.load())\n",
    "    uasa_std_1 = uasa_eq_1.groupby('time.month').std(dim='time')\n",
    "    uasa_std_eq_1 = uasa_std_1.mean(dim='lat')\n",
    "    \n",
    "    uasa_std_eq_model_1[i,:,:] = uasa_std_eq_1.values\n",
    "    \n",
    "    \n",
    "    ###################################################################\n",
    "\n",
    "    nc_tmp = xr.open_dataset(dir_ssp585_uas+'uas_Amon_'+model[i]+'_ssp585_r1i1p1f1_201501-209912_1deg.nc')\n",
    "    uas_tmp_2 = nc_tmp.uas[:]\n",
    "    try:\n",
    "\n",
    "        uas_tmp_2 = uas_tmp_2.sel(time=slice(datetime(period_str_2, 1, 1), datetime(period_end_2, 12, 31)))\n",
    "    except TypeError:\n",
    "        \n",
    "        uas_tmp_2['time'] = uas_tmp_2.indexes['time'].to_datetimeindex()\n",
    "        uas_tmp_2 = uas_tmp_2.sel(time=slice(datetime(period_str_2, 1, 1), datetime(period_end_2, 12, 31)))\n",
    "    \n",
    "    \n",
    "    uas_tmp_2 = xr.concat([uas_tmp_2[ :,:, 180:], uas_tmp_2[:, :, :180]], dim='lon')\n",
    "    uas_tmp_2.coords['lon'] = (uas_tmp_2.coords['lon'] + 180) % 360 - 180\n",
    "    uas_2 = Atools.data_sub(uas_tmp_2,lon_min,lon_max,lat_min,lat_max)\n",
    "    uas_2 = uas_2.chunk(chunks=None)\n",
    "    uas_dtd_2 = xsf.detrend(uas_2[:],dim='time',type='linear')\n",
    "    uasa_eq_2,_ = Atools.ano_norm_t(uas_dtd_2.load())\n",
    "    uasa_std_2 = uasa_eq_2.groupby('time.month').std(dim='time')\n",
    "    uasa_std_eq_2 = uasa_std_2.mean(dim='lat')\n",
    "    \n",
    "    uasa_std_eq_model_2[i,:,:] = uasa_std_eq_2.values"
   ]
  },
  {
   "cell_type": "code",
   "execution_count": 5,
   "metadata": {},
   "outputs": [],
   "source": [
    "\n",
    "month = np.arange(1,13,1)\n",
    "monthly_ssta_std_model_1  = xr.Dataset({'ssta_std': (['model','month','lon'],ssta_std_eq_model_1)}\n",
    "                           ,coords={'model': model,\n",
    "                                    'month': np.array(month),\n",
    "                                    'lon'  : np.array(ssta_std_eq_1.lon)}\n",
    "\n",
    "                           ,attrs={'standard_name': 'std_ssta',\n",
    "                                    'long_name': 'Standard deviation of SSTa',\n",
    "                                    'units': 'K',\n",
    "                                    'model': 'CMIP6',\n",
    "                                    'Scenario': 'Historical',\n",
    "                                    'Creation_date':date_time,   \n",
    "                                    'author': 'Arthur Prigent'})\n",
    "\n",
    "monthly_ssta_std_model_2  = xr.Dataset({'ssta_std': (['model','month','lon'],ssta_std_eq_model_2)}\n",
    "                           ,coords={'model': model,\n",
    "                                    'month': np.array(month),\n",
    "                                    'lon'  : np.array(ssta_std_eq_2.lon)}\n",
    "\n",
    "                           ,attrs={'standard_name': 'std_ssta',\n",
    "                                    'long_name': 'Standard deviation of SSTa',\n",
    "                                    'units': 'K',\n",
    "                                    'model': 'CMIP6',\n",
    "                                    'Scenario': 'SSP585',\n",
    "                                    'Creation_date':date_time,   \n",
    "                                    'author': 'Arthur Prigent'})\n"
   ]
  },
  {
   "cell_type": "code",
   "execution_count": 6,
   "metadata": {},
   "outputs": [],
   "source": [
    "monthly_uasa_std_model_1  = xr.Dataset({'uasa_std': (['model','month','lon'],uasa_std_eq_model_1)}\n",
    "                           ,coords={'model': model,\n",
    "                                    'month': np.array(month),\n",
    "                                    'lon'  : np.array(uasa_std_eq_1.lon)}\n",
    "\n",
    "                           ,attrs={'standard_name': 'std_uasa',\n",
    "                                    'long_name': 'Standard deviation of Zonal wind speed anomalies',\n",
    "                                    'units': 'm/s',\n",
    "                                    'model': 'CMIP6',\n",
    "                                    'Scenario': 'Historical',\n",
    "                                    'Creation_date':date_time,   \n",
    "                                    'author': 'Arthur Prigent'})\n",
    "\n",
    "monthly_uasa_std_model_2  = xr.Dataset({'uasa_std': (['model','month','lon'],uasa_std_eq_model_2)}\n",
    "                           ,coords={'model': model,\n",
    "                                    'month': np.array(month),\n",
    "                                    'lon'  : np.array(uasa_std_eq_2.lon)}\n",
    "\n",
    "                           ,attrs={'standard_name': 'std_uasa',\n",
    "                                    'long_name': 'Standard deviation of Zonal wind speed anomalies',\n",
    "                                    'units': 'm/s',\n",
    "                                    'model': 'CMIP6',\n",
    "                                    'Scenario': 'SSP585',\n",
    "                                    'Creation_date':date_time,   \n",
    "                                    'author': 'Arthur Prigent'})\n"
   ]
  },
  {
   "cell_type": "code",
   "execution_count": 7,
   "metadata": {},
   "outputs": [],
   "source": [
    "monthly_ssta_std_model_1.to_netcdf(path_data+\n",
    "    'std_ssta_1950-1999_40W_5E_CMIP6_hist.nc',mode='w')\n",
    "monthly_ssta_std_model_2.to_netcdf(path_data+\n",
    "    'std_ssta_2050-2099_40W_5E_CMIP6_ssp585.nc',mode='w')\n",
    "\n",
    "\n",
    "\n"
   ]
  },
  {
   "cell_type": "code",
   "execution_count": 8,
   "metadata": {},
   "outputs": [],
   "source": [
    "monthly_uasa_std_model_1.to_netcdf(path_data+\n",
    "    'std_uasa_1950-1999_40W_5E_CMIP6_hist.nc',mode='w')\n",
    "monthly_uasa_std_model_2.to_netcdf(path_data+\n",
    "    'std_uasa_2050-2099_40W_5E_CMIP6_ssp585.nc',mode='w')\n"
   ]
  },
  {
   "cell_type": "code",
   "execution_count": 8,
   "metadata": {},
   "outputs": [],
   "source": [
    "monthly_uasa_std_model_atl4_1 = monthly_uasa_std_model_1.where((monthly_uasa_std_model_1.lon>-40) &\n",
    "                                                               (monthly_uasa_std_model_1.lon<-20))\n",
    "monthly_uasa_std_model_atl4_2 = monthly_uasa_std_model_2.where((monthly_uasa_std_model_2.lon>-40) &\n",
    "                                                               (monthly_uasa_std_model_2.lon<-20))\n",
    "\n",
    "monthly_uasa_std_model_atl4_mean_1 = monthly_uasa_std_model_atl4_1.mean(dim='lon')\n",
    "monthly_uasa_std_model_atl4_mean_2 = monthly_uasa_std_model_atl4_2.mean(dim='lon')\n",
    "\n",
    "\n",
    "#monthly_uasa_std_model_atl4_mean_1.to_netcdf('/Volumes/Arthur_disk2/Data/CMIP6/tmp_data/std_uasa_hist_monthly_CMIP6.nc')\n",
    "#monthly_uasa_std_model_atl4_mean_2.to_netcdf('/Volumes/Arthur_disk2/Data/CMIP6/tmp_data/std_uasa_ssp5_monthly_CMIP6.nc')"
   ]
  }
 ],
 "metadata": {
  "kernelspec": {
   "display_name": "Python 3 (ipykernel)",
   "language": "python",
   "name": "python3"
  },
  "language_info": {
   "codemirror_mode": {
    "name": "ipython",
    "version": 3
   },
   "file_extension": ".py",
   "mimetype": "text/x-python",
   "name": "python",
   "nbconvert_exporter": "python",
   "pygments_lexer": "ipython3",
   "version": "3.7.10"
  }
 },
 "nbformat": 4,
 "nbformat_minor": 2
}
