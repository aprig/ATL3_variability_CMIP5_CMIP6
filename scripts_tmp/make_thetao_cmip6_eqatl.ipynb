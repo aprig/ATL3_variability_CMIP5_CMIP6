{
 "cells": [
  {
   "cell_type": "code",
   "execution_count": 1,
   "metadata": {},
   "outputs": [],
   "source": [
    "# Author : Arthur Prigent\n",
    "# Email : aprigent@geomar.de"
   ]
  },
  {
   "cell_type": "code",
   "execution_count": 8,
   "metadata": {},
   "outputs": [
    {
     "name": "stderr",
     "output_type": "stream",
     "text": [
      "/Users/aprigent/miniconda3/envs/py3_std/lib/python3.7/site-packages/ipykernel_launcher.py:7: UserWarning: ignore\n",
      "  import sys\n"
     ]
    }
   ],
   "source": [
    "from load_librairies import *\n",
    "import xscale.signal.fitting as xsf\n",
    "import numpy as np\n",
    "import scipy.interpolate as sc_interp\n",
    "import warnings\n",
    "import xarray as xr\n",
    "warnings.warn('ignore')\n",
    "\n",
    "now = datetime.now()\n",
    "date_time = now.strftime(\"%d/%m/%Y\")\n",
    "lon_min = -20\n",
    "lon_max = 0\n",
    "lat_min = -3\n",
    "lat_max = 3\n",
    "\n",
    "period_str_1 = 1950\n",
    "period_end_1 = 1999\n",
    "\n",
    "period_str_2 = 2050\n",
    "period_end_2 = 2099\n",
    "\n",
    "def is_jja(month):\n",
    "    return (month >= 6) & (month <= 8)\n",
    "\n",
    "def isotherm(temp,Z,isovalue):\n",
    "    '''\n",
    "    It is constant temperature depth. i.e. 20 deg. C isotherm defines depth at which temperature \n",
    "    is 20C, often denoted as Z20 or D20 \n",
    "    ==========================================================%\n",
    "    \n",
    "    USAGE: isotherm=ra_isotherm(temp,Z,isovalue)\n",
    "    \n",
    "    DESCRIPTION:  This function determines Isotherms from profile data sets. If you have 3D \n",
    "    data sets i.e. level, lat and lon and want to compute the Isotherm, then this function will \n",
    "    be very handy. Because this function is specifically designed for those cases. However, \n",
    "    it can evaluate isotherms from profile data too.\n",
    "    \n",
    "    INPUTS: \n",
    "    temp = Temperature profiles over the study region [deg. C], either 3D or vector\n",
    "    Z = Levels [m], Must be vector\n",
    "    isovalue = temperature at which you want to compute isotherms [deg. C], Must be scalar\n",
    "    \n",
    "    OUTPUT: \n",
    "    isotherm = Isotherms depth, spatial output [m]\n",
    "    '''\n",
    "\n",
    "    (lv, lt, ln)=temp.shape\n",
    "    T = np.array(temp).reshape(lv,lt*ln)\n",
    "    #print(T.shape)\n",
    "    oce= np.where(temp[0,:,:]!=np.nan)\n",
    "    land = np.where(temp[0,:,:]==np.nan)\n",
    "    T[:,land] = np.nan\n",
    "    #print(oce)\n",
    "    (_,nloop)=T.shape\n",
    "    #print(nloop)\n",
    "    therm = np.ones((nloop))*np.nan\n",
    "    for i in range(nloop):\n",
    "        t = T[:,i]\n",
    "        id1 = np.array(np.where(t < isovalue)).ravel()\n",
    "        \n",
    "        if (len(id1) > 0) and (id1[0]>1) :\n",
    "            \n",
    "            p2 = id1[0]\n",
    "            p1 = p2-1\n",
    "            f = sc_interp.interp1d(t[[p1,p2]],Z[[p1,p2]])\n",
    "            therm[i] = f(isovalue)\n",
    "        else:\n",
    "            therm[i] = np.nan\n",
    "            \n",
    "    isotherm = np.ones((lt*ln))*np.nan\n",
    "    #isotherm[oce] = therm\n",
    "    isotherm = isotherm.reshape(lt,ln)\n",
    "    isotherm[oce] = therm\n",
    "    return isotherm\n",
    "\n",
    "\n",
    "def data_sub(data,lon_min,lon_max,lat_min,lat_max):\n",
    "    \n",
    "    '''Define a box between lon_min lon_max lat_min and lat_max and \n",
    "    extract the data in the box and drop everything else.\n",
    "    \n",
    "    \n",
    "    Parameters\n",
    "    ----------\n",
    "    \n",
    "    data : xarray_like\n",
    "    Data to be subdomained. \n",
    "    \n",
    "    lon_min : integer\n",
    "    Longitude minimum of the subdomain\n",
    "    \n",
    "    lon_max : integer\n",
    "    Longitude maximum of the subdomain\n",
    "    \n",
    "    lat_min : integer\n",
    "    Latitude minimum of the subdomain\n",
    "    \n",
    "    lat_max : integer\n",
    "    Latitude maximum of the subdomain\n",
    "    \n",
    "    Returns\n",
    "    ---------\n",
    "    \n",
    "    data_sub : xarray_like\n",
    "    Subdomain. \n",
    "    '''\n",
    "    \n",
    "    try:\n",
    "        data_sub = data.where((  data.lon>=lon_min) & (data.lon<=lon_max) & (data.lat<=lat_max) & (data.lat>=lat_min),\n",
    "                                                                          drop=True)\n",
    "    except AttributeError:\n",
    "        try:\n",
    "            data_sub = data.where((  data.nav_lon>=lon_min) & (data.nav_lon<=lon_max) & (data.nav_lat<=lat_max) & (data.nav_lat>=lat_min),drop=True)\n",
    "        except AttributeError:\n",
    "            try:\n",
    "                data_sub = data.where((  data.longitude>=lon_min) & (data.longitude<=lon_max) & (data.latitude<=lat_max) & (data.latitude>=lat_min),drop=True)\n",
    "            except AttributeError:\n",
    "                try:\n",
    "                    data_sub = data.where((  data.x>=lon_min) & (data.x<=lon_max) & (data.y<=lat_max) &\n",
    "                                      (data.y>=lat_min),drop=True)\n",
    "                except AttributeError:\n",
    "                    try:\n",
    "                        data_sub = data.where((  data.LON>=lon_min) & (data.LON<=lon_max) & (data.LAT<=lat_max) &\n",
    "                                      (data.LAT>=lat_min),drop=True)\n",
    "                    except AttributeError:\n",
    "                        data_sub = data.where((  data.LONGITUDE>=lon_min) & (data.LONGITUDE<=lon_max) &\n",
    "                                                  (data.LATITUDE<=lat_max) &(data.LATITUDE>=lat_min),drop=True)\n",
    "            \n",
    "    \n",
    "\n",
    " \n",
    "    \n",
    "    return data_sub\n",
    "dir_data ='/Volumes/Arthur_disk2/Data/CMIP6/Omon/historical/thetao/eqatl/'\n",
    "dir_data2 ='/Volumes/Arthur_disk2/Data/CMIP6/Omon/ssp585/thetao/eqatl/'\n",
    "import cftime\n",
    "import datetime\n",
    "path_data = '/Users/aprigent/Documents/Thesis_GEOMAR/Projects/weakened_sst_variability_CMIP5/scripts/new_version/to_publish/data/'"
   ]
  },
  {
   "cell_type": "code",
   "execution_count": 9,
   "metadata": {},
   "outputs": [
    {
     "data": {
      "text/plain": [
       "16"
      ]
     },
     "execution_count": 9,
     "metadata": {},
     "output_type": "execute_result"
    }
   ],
   "source": [
    "model =  ['ACCESS-CM2',  'ACCESS-ESM1-5', 'BCC-CSM2-MR',  'CAMS-CSM1-0', 'CanESM5', 'EC-Earth3',\n",
    "  'EC-Earth3-Veg','GFDL-ESM4', 'INM-CM4-8', 'INM-CM5-0',  'IPSL-CM6A-LR', 'MIROC6',\n",
    "  'MPI-ESM1-2-HR', 'MPI-ESM1-2-LR', 'MRI-ESM2-0', 'NESM3']\n",
    "len(model)"
   ]
  },
  {
   "cell_type": "code",
   "execution_count": 10,
   "metadata": {},
   "outputs": [
    {
     "name": "stdout",
     "output_type": "stream",
     "text": [
      "ACCESS-CM2\n",
      "ACCESS-ESM1-5\n",
      "BCC-CSM2-MR\n",
      "CAMS-CSM1-0\n",
      "CanESM5\n",
      "EC-Earth3\n",
      "EC-Earth3-Veg\n",
      "GFDL-ESM4\n",
      "INM-CM4-8\n",
      "INM-CM5-0\n",
      "IPSL-CM6A-LR\n",
      "MIROC6\n",
      "MPI-ESM1-2-HR\n",
      "MPI-ESM1-2-LR\n",
      "MRI-ESM2-0\n",
      "NESM3\n"
     ]
    }
   ],
   "source": [
    "temp_cmip5_hist = np.ones((len(model),56,51))*np.nan\n",
    "temp_cmip5_hist_jja = np.ones((len(model),56,51))*np.nan\n",
    "\n",
    "for j in range(len(model)):\n",
    "    print(model[j])\n",
    "    data_tmp = xr.open_dataset(dir_data+'thetao_Omon_'+model[j]+'_historical_r1i1p1f1_187001-201412_1deg_vertint_eqatl.nc')\n",
    "\n",
    "    temp = data_tmp.thetao[:,:,:,:]\n",
    "\n",
    "    try:\n",
    "        temp = temp.sel(time=slice(datetime.datetime(period_str_1, 1, 1),\n",
    "                                   datetime.datetime(period_end_1, 12, 31)))\n",
    "        \n",
    "    except TypeError:\n",
    "        try:\n",
    "            \n",
    "            temp['time'] = temp['time'].to_datetimeindex()\n",
    "            temp = temp.sel(time=slice(datetime.datetime(period_str_1, 1, 1),\n",
    "                                       datetime.datetime(period_end_1, 12, 31)))\n",
    "        except AttributeError:\n",
    "            try:\n",
    "                temp = temp.sel(time=slice(cftime.DatetimeNoLeap(period_str_1, 1, 1, 1, 0, 0, 0, has_year_zero=True),\n",
    "                                       cftime.DatetimeNoLeap(period_end_1, 1, 1, 1, 0, 0, 0, has_year_zero=True)))\n",
    "            except TypeError:\n",
    "                temp = temp.sel(time=slice(cftime.Datetime360Day(period_str_1, 1, 1, 1, 0, 0, 0, has_year_zero=True),\n",
    "                                       cftime.Datetime360Day(period_end_1, 1, 1, 1, 0, 0, 0, has_year_zero=True)))\n",
    "\n",
    "    temp = temp.where(temp>0)\n",
    "    temp_mean_jja = temp.sel(time=is_jja(temp['time.month'])).mean(dim='time').mean(dim='lat')\n",
    "    temp_mean = temp.mean(dim='time').mean(dim='lat')\n",
    "    \n",
    "    temp_cmip5_hist[j,:,:] = np.array(temp_mean)\n",
    "    temp_cmip5_hist_jja[j,:,:] = np.array(temp_mean_jja)"
   ]
  },
  {
   "cell_type": "code",
   "execution_count": 11,
   "metadata": {},
   "outputs": [],
   "source": [
    "temp_eq  = xr.Dataset({'temp_eq': (['model','depth','lon'],temp_cmip5_hist),\n",
    "                           'temp_eq_jja': (['model','depth','lon'],temp_cmip5_hist_jja)}\n",
    "                       ,coords={'model':model,\n",
    "                          'depth':np.array(temp.lev),\n",
    "                               'lon':np.array(temp.lon)},attrs={'standard_name': 'Temp',\n",
    "                                    'long_name': 'Equatorial Temperature',\n",
    "                                    'units': 'K',\n",
    "                                    'model': 'CMIP6',\n",
    "                                    'Scenario': 'HIST',\n",
    "                                    'Creation_date':date_time,   \n",
    "                                    'author': 'Arthur Prigent'})"
   ]
  },
  {
   "cell_type": "code",
   "execution_count": 12,
   "metadata": {},
   "outputs": [],
   "source": [
    "temp_eq.to_netcdf(path_data+'temp_eq_cmip6_40W_10E_hist.nc')"
   ]
  },
  {
   "cell_type": "markdown",
   "metadata": {},
   "source": [
    "# 2050 2099"
   ]
  },
  {
   "cell_type": "code",
   "execution_count": 13,
   "metadata": {},
   "outputs": [],
   "source": [
    "import cftime"
   ]
  },
  {
   "cell_type": "code",
   "execution_count": 14,
   "metadata": {},
   "outputs": [
    {
     "name": "stdout",
     "output_type": "stream",
     "text": [
      "ACCESS-CM2\n",
      "ACCESS-ESM1-5\n",
      "BCC-CSM2-MR\n",
      "CAMS-CSM1-0\n",
      "CanESM5\n",
      "EC-Earth3\n",
      "EC-Earth3-Veg\n",
      "GFDL-ESM4\n",
      "INM-CM4-8\n",
      "INM-CM5-0\n",
      "IPSL-CM6A-LR\n",
      "MIROC6\n",
      "MPI-ESM1-2-HR\n",
      "MPI-ESM1-2-LR\n",
      "MRI-ESM2-0\n",
      "NESM3\n"
     ]
    }
   ],
   "source": [
    "temp_cmip5_rcp = np.ones((len(model),56,51))*np.nan\n",
    "temp_cmip5_rcp_jja = np.ones((len(model),56,51))*np.nan\n",
    "\n",
    "for j in range(len(model)):\n",
    "    print(model[j])\n",
    "    try:\n",
    "        data_tmp = xr.open_dataset(dir_data2+'thetao_Omon_'+model[j]+'_ssp585_r1i1p1f1_201501-209912_1deg_vertint_eqatl.nc')\n",
    "    except ValueError:\n",
    "            data_tmp = xr.open_dataset(dir_data2+'thetao_Omon_'+model[j]+'_ssp585_r1i1p1f1_201501-209912_1deg_vertint_eqatl.nc',\n",
    "                                       decode_times=False)\n",
    "            data_tmp['time'] = pd.date_range(datetime.datetime(2015, 1, 1),periods=1020,freq='M')\n",
    "        \n",
    "    temp = data_tmp.thetao[:,:,:,:]\n",
    "\n",
    "    try:\n",
    "        temp = temp.sel(time=slice(datetime.datetime(period_str_2, 1, 1),\n",
    "                                   datetime.datetime(period_end_2, 12, 31)))\n",
    "        \n",
    "    except TypeError:\n",
    "        try:\n",
    "            \n",
    "            temp['time'] = temp['time'].to_datetimeindex()\n",
    "            temp = temp.sel(time=slice(datetime.datetime(period_str_2, 1, 1),\n",
    "                                       datetime.datetime(period_end_2, 12, 31)))\n",
    "        except AttributeError:\n",
    "            try:\n",
    "                temp = temp.sel(time=slice(cftime.DatetimeNoLeap(period_str_2, 1, 1, 1, 0, 0, 0, has_year_zero=True),\n",
    "                                       cftime.DatetimeNoLeap(period_end_2, 1, 1, 1, 0, 0, 0, has_year_zero=True)))\n",
    "            except TypeError:\n",
    "                temp = temp.sel(time=slice(cftime.Datetime360Day(period_str_2, 1, 1, 1, 0, 0, 0, has_year_zero=True),\n",
    "                                       cftime.Datetime360Day(period_end_2, 1, 1, 1, 0, 0, 0, has_year_zero=True)))\n",
    "\n",
    "    temp = temp.where(temp>0)\n",
    "    temp_mean_jja = temp.sel(time=is_jja(temp['time.month'])).mean(dim='time').mean(dim='lat')\n",
    "    temp_mean = temp.mean(dim='time').mean(dim='lat')\n",
    "    \n",
    "    temp_cmip5_rcp[j,:,:] = np.array(temp_mean)\n",
    "    temp_cmip5_rcp_jja[j,:,:] = np.array(temp_mean_jja)"
   ]
  },
  {
   "cell_type": "code",
   "execution_count": 15,
   "metadata": {},
   "outputs": [],
   "source": [
    "temp_eq_rcp85  = xr.Dataset({'temp_eq': (['model','depth','lon'],temp_cmip5_rcp),\n",
    "                           'temp_eq_jja': (['model','depth','lon'],temp_cmip5_rcp_jja)}\n",
    "                       ,coords={'model':model,\n",
    "                          'depth':np.array(temp.lev),\n",
    "                               'lon':np.array(temp.lon)},attrs={'standard_name': 'Temp',\n",
    "                                    'long_name': 'Equatorial Temperature',\n",
    "                                    'units': 'K',\n",
    "                                    'model': 'CMIP6',\n",
    "                                    'Scenario': 'RCP85',\n",
    "                                    'Creation_date':date_time,   \n",
    "                                    'author': 'Arthur Prigent'})"
   ]
  },
  {
   "cell_type": "code",
   "execution_count": 16,
   "metadata": {},
   "outputs": [],
   "source": [
    "temp_eq_rcp85.to_netcdf(path_data+'temp_eq_cmip6_40W_10E_ssp585.nc')"
   ]
  },
  {
   "cell_type": "code",
   "execution_count": null,
   "metadata": {},
   "outputs": [],
   "source": []
  }
 ],
 "metadata": {
  "kernelspec": {
   "display_name": "Python 3 (ipykernel)",
   "language": "python",
   "name": "python3"
  },
  "language_info": {
   "codemirror_mode": {
    "name": "ipython",
    "version": 3
   },
   "file_extension": ".py",
   "mimetype": "text/x-python",
   "name": "python",
   "nbconvert_exporter": "python",
   "pygments_lexer": "ipython3",
   "version": "3.7.10"
  }
 },
 "nbformat": 4,
 "nbformat_minor": 2
}
