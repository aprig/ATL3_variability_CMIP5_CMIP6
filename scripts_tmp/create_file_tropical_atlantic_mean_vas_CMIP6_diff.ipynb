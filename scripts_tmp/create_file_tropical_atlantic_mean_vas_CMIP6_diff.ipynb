{
 "cells": [
  {
   "cell_type": "code",
   "execution_count": 3,
   "metadata": {},
   "outputs": [],
   "source": [
    "# Author : Arthur Prigent\n",
    "# Email: aprigent@geomar.de"
   ]
  },
  {
   "cell_type": "code",
   "execution_count": 1,
   "metadata": {},
   "outputs": [],
   "source": [
    "from load_librairies import *\n",
    "import xscale.signal.fitting as xsf\n",
    "\n",
    "dir_hist_vas = '/Volumes/Arthur_disk2/Data/CMIP6/Amon/historical/vas/mon/'\n",
    "dir_ssp585_vas = '/Volumes/Arthur_disk2/Data/CMIP6/Amon/ssp585/vas/mon/'\n",
    "\n",
    "path_fig = '/Users/aprigent/Documents/Thesis_GEOMAR/Projects/weakened_sst_variability_CMIP5/figures/'\n",
    "lon_min = -20\n",
    "lon_max = 0\n",
    "lat_min = -3\n",
    "lat_max = 3\n",
    "\n",
    "period_str_1 = 1950\n",
    "period_end_1 = 1999\n",
    "\n",
    "period_str_2 = 2050\n",
    "period_end_2 = 2099\n",
    "\n",
    "def nandetrend(y):\n",
    "    ''' Remove the linear trend from the data '''\n",
    "    x = np.arange(0,y.shape[0],1)\n",
    "    \n",
    "    not_nan_ind = ~np.isnan(y)\n",
    "    m, b, r_val, p_val, std_err = stats.linregress(x[not_nan_ind],np.array(y)[not_nan_ind])\n",
    "    \n",
    "    \n",
    "    y_detrended_tmp= np.array(y) - m*x\n",
    "    \n",
    "    y_detrended  = xr.Dataset({'detrended': (['time'],y_detrended_tmp)}\n",
    "                       ,coords={'time':y.time[:]})\n",
    "    return y_detrended\n",
    "\n",
    "def is_jja(month):\n",
    "    return (month >= 6) & (month <= 8)\n",
    "now = datetime.now()\n",
    "date_time = now.strftime(\"%d/%m/%Y\")\n",
    "path_data = '/Users/aprigent/Documents/Thesis_GEOMAR/Projects/weakened_sst_variability_CMIP5/scripts/new_version/to_publish/data/'"
   ]
  },
  {
   "cell_type": "code",
   "execution_count": 2,
   "metadata": {},
   "outputs": [],
   "source": [
    "model = ['ACCESS-CM2',\n",
    "         'ACCESS-ESM1-5', 'BCC-CSM2-MR',\n",
    "         'CAMS-CSM1-0', 'CanESM5', 'EC-Earth3', 'EC-Earth3-Veg','FGOALS-f3-L','GFDL-ESM4',\n",
    "         'INM-CM4-8', 'INM-CM5-0',\n",
    "         'IPSL-CM6A-LR', 'MIROC6', 'MPI-ESM1-2-HR', 'MPI-ESM1-2-LR', 'MRI-ESM2-0','NESM3']\n"
   ]
  },
  {
   "cell_type": "code",
   "execution_count": 3,
   "metadata": {},
   "outputs": [
    {
     "name": "stdout",
     "output_type": "stream",
     "text": [
      "ACCESS-CM2\n",
      "ACCESS-CM2\n",
      "ACCESS-ESM1-5\n",
      "ACCESS-ESM1-5\n",
      "BCC-CSM2-MR\n"
     ]
    },
    {
     "name": "stderr",
     "output_type": "stream",
     "text": [
      "/Users/aprigent/miniconda3/envs/py3_std/lib/python3.7/site-packages/ipykernel_launcher.py:21: RuntimeWarning: Converting a CFTimeIndex with dates from a non-standard calendar, 'noleap', to a pandas.DatetimeIndex, which uses dates from the standard calendar.  This may lead to subtle errors in operations that depend on the length of time between dates.\n"
     ]
    },
    {
     "name": "stdout",
     "output_type": "stream",
     "text": [
      "BCC-CSM2-MR\n"
     ]
    },
    {
     "name": "stderr",
     "output_type": "stream",
     "text": [
      "/Users/aprigent/miniconda3/envs/py3_std/lib/python3.7/site-packages/ipykernel_launcher.py:48: RuntimeWarning: Converting a CFTimeIndex with dates from a non-standard calendar, 'noleap', to a pandas.DatetimeIndex, which uses dates from the standard calendar.  This may lead to subtle errors in operations that depend on the length of time between dates.\n"
     ]
    },
    {
     "name": "stdout",
     "output_type": "stream",
     "text": [
      "CAMS-CSM1-0\n"
     ]
    },
    {
     "name": "stderr",
     "output_type": "stream",
     "text": [
      "/Users/aprigent/miniconda3/envs/py3_std/lib/python3.7/site-packages/ipykernel_launcher.py:21: RuntimeWarning: Converting a CFTimeIndex with dates from a non-standard calendar, 'noleap', to a pandas.DatetimeIndex, which uses dates from the standard calendar.  This may lead to subtle errors in operations that depend on the length of time between dates.\n"
     ]
    },
    {
     "name": "stdout",
     "output_type": "stream",
     "text": [
      "CAMS-CSM1-0\n"
     ]
    },
    {
     "name": "stderr",
     "output_type": "stream",
     "text": [
      "/Users/aprigent/miniconda3/envs/py3_std/lib/python3.7/site-packages/ipykernel_launcher.py:48: RuntimeWarning: Converting a CFTimeIndex with dates from a non-standard calendar, 'noleap', to a pandas.DatetimeIndex, which uses dates from the standard calendar.  This may lead to subtle errors in operations that depend on the length of time between dates.\n"
     ]
    },
    {
     "name": "stdout",
     "output_type": "stream",
     "text": [
      "CanESM5\n"
     ]
    },
    {
     "name": "stderr",
     "output_type": "stream",
     "text": [
      "/Users/aprigent/miniconda3/envs/py3_std/lib/python3.7/site-packages/ipykernel_launcher.py:21: RuntimeWarning: Converting a CFTimeIndex with dates from a non-standard calendar, 'noleap', to a pandas.DatetimeIndex, which uses dates from the standard calendar.  This may lead to subtle errors in operations that depend on the length of time between dates.\n"
     ]
    },
    {
     "name": "stdout",
     "output_type": "stream",
     "text": [
      "CanESM5\n"
     ]
    },
    {
     "name": "stderr",
     "output_type": "stream",
     "text": [
      "/Users/aprigent/miniconda3/envs/py3_std/lib/python3.7/site-packages/ipykernel_launcher.py:48: RuntimeWarning: Converting a CFTimeIndex with dates from a non-standard calendar, 'noleap', to a pandas.DatetimeIndex, which uses dates from the standard calendar.  This may lead to subtle errors in operations that depend on the length of time between dates.\n"
     ]
    },
    {
     "name": "stdout",
     "output_type": "stream",
     "text": [
      "EC-Earth3\n",
      "EC-Earth3\n",
      "EC-Earth3-Veg\n",
      "EC-Earth3-Veg\n",
      "FGOALS-f3-L\n"
     ]
    },
    {
     "name": "stderr",
     "output_type": "stream",
     "text": [
      "/Users/aprigent/miniconda3/envs/py3_std/lib/python3.7/site-packages/ipykernel_launcher.py:21: RuntimeWarning: Converting a CFTimeIndex with dates from a non-standard calendar, 'noleap', to a pandas.DatetimeIndex, which uses dates from the standard calendar.  This may lead to subtle errors in operations that depend on the length of time between dates.\n"
     ]
    },
    {
     "name": "stdout",
     "output_type": "stream",
     "text": [
      "FGOALS-f3-L\n"
     ]
    },
    {
     "name": "stderr",
     "output_type": "stream",
     "text": [
      "/Users/aprigent/miniconda3/envs/py3_std/lib/python3.7/site-packages/ipykernel_launcher.py:48: RuntimeWarning: Converting a CFTimeIndex with dates from a non-standard calendar, 'noleap', to a pandas.DatetimeIndex, which uses dates from the standard calendar.  This may lead to subtle errors in operations that depend on the length of time between dates.\n"
     ]
    },
    {
     "name": "stdout",
     "output_type": "stream",
     "text": [
      "GFDL-ESM4\n"
     ]
    },
    {
     "name": "stderr",
     "output_type": "stream",
     "text": [
      "/Users/aprigent/miniconda3/envs/py3_std/lib/python3.7/site-packages/ipykernel_launcher.py:21: RuntimeWarning: Converting a CFTimeIndex with dates from a non-standard calendar, 'noleap', to a pandas.DatetimeIndex, which uses dates from the standard calendar.  This may lead to subtle errors in operations that depend on the length of time between dates.\n"
     ]
    },
    {
     "name": "stdout",
     "output_type": "stream",
     "text": [
      "GFDL-ESM4\n"
     ]
    },
    {
     "name": "stderr",
     "output_type": "stream",
     "text": [
      "/Users/aprigent/miniconda3/envs/py3_std/lib/python3.7/site-packages/ipykernel_launcher.py:48: RuntimeWarning: Converting a CFTimeIndex with dates from a non-standard calendar, 'noleap', to a pandas.DatetimeIndex, which uses dates from the standard calendar.  This may lead to subtle errors in operations that depend on the length of time between dates.\n"
     ]
    },
    {
     "name": "stdout",
     "output_type": "stream",
     "text": [
      "INM-CM4-8\n"
     ]
    },
    {
     "name": "stderr",
     "output_type": "stream",
     "text": [
      "/Users/aprigent/miniconda3/envs/py3_std/lib/python3.7/site-packages/ipykernel_launcher.py:21: RuntimeWarning: Converting a CFTimeIndex with dates from a non-standard calendar, 'noleap', to a pandas.DatetimeIndex, which uses dates from the standard calendar.  This may lead to subtle errors in operations that depend on the length of time between dates.\n"
     ]
    },
    {
     "name": "stdout",
     "output_type": "stream",
     "text": [
      "INM-CM4-8\n"
     ]
    },
    {
     "name": "stderr",
     "output_type": "stream",
     "text": [
      "/Users/aprigent/miniconda3/envs/py3_std/lib/python3.7/site-packages/ipykernel_launcher.py:48: RuntimeWarning: Converting a CFTimeIndex with dates from a non-standard calendar, 'noleap', to a pandas.DatetimeIndex, which uses dates from the standard calendar.  This may lead to subtle errors in operations that depend on the length of time between dates.\n"
     ]
    },
    {
     "name": "stdout",
     "output_type": "stream",
     "text": [
      "INM-CM5-0\n"
     ]
    },
    {
     "name": "stderr",
     "output_type": "stream",
     "text": [
      "/Users/aprigent/miniconda3/envs/py3_std/lib/python3.7/site-packages/ipykernel_launcher.py:21: RuntimeWarning: Converting a CFTimeIndex with dates from a non-standard calendar, 'noleap', to a pandas.DatetimeIndex, which uses dates from the standard calendar.  This may lead to subtle errors in operations that depend on the length of time between dates.\n"
     ]
    },
    {
     "name": "stdout",
     "output_type": "stream",
     "text": [
      "INM-CM5-0\n"
     ]
    },
    {
     "name": "stderr",
     "output_type": "stream",
     "text": [
      "/Users/aprigent/miniconda3/envs/py3_std/lib/python3.7/site-packages/ipykernel_launcher.py:48: RuntimeWarning: Converting a CFTimeIndex with dates from a non-standard calendar, 'noleap', to a pandas.DatetimeIndex, which uses dates from the standard calendar.  This may lead to subtle errors in operations that depend on the length of time between dates.\n"
     ]
    },
    {
     "name": "stdout",
     "output_type": "stream",
     "text": [
      "IPSL-CM6A-LR\n",
      "IPSL-CM6A-LR\n",
      "MIROC6\n",
      "MIROC6\n",
      "MPI-ESM1-2-HR\n",
      "MPI-ESM1-2-HR\n",
      "MPI-ESM1-2-LR\n",
      "MPI-ESM1-2-LR\n",
      "MRI-ESM2-0\n",
      "MRI-ESM2-0\n",
      "NESM3\n",
      "NESM3\n"
     ]
    }
   ],
   "source": [
    "vas_mean_model_jja_1 = np.ones((len(model),60,81))*np.nan\n",
    "vas_mean_model_jja_2 = np.ones((len(model),60,81))*np.nan\n",
    "\n",
    "\n",
    "vas_mean_model_1 = np.ones((len(model),60,81))*np.nan\n",
    "vas_mean_model_2 = np.ones((len(model),60,81))*np.nan\n",
    "\n",
    "\n",
    "for i in range(len(model)):\n",
    "    try:\n",
    "        \n",
    "        nc_tmp = xr.open_dataset(dir_hist_vas+'vas_Amon_'+model[i]+'_historical_r1i1p1f1_187001-201412_1deg.nc')\n",
    "        print(model[i])\n",
    "        vas_tmp_1 = nc_tmp.vas[:]\n",
    "\n",
    "        try:\n",
    "\n",
    "            vas_tmp_1 = vas_tmp_1.sel(time=slice(datetime(period_str_1, 1, 1), datetime(period_end_1, 12, 31)))\n",
    "        except TypeError:\n",
    "\n",
    "            vas_tmp_1['time'] = vas_tmp_1.indexes['time'].to_datetimeindex()\n",
    "            vas_tmp_1 = vas_tmp_1.sel(time=slice(datetime(period_str_1, 1, 1), datetime(period_end_1, 12, 31)))\n",
    "\n",
    "        vas_tmp_1 = xr.concat([vas_tmp_1[ :,:, 180:], vas_tmp_1[:, :, :180]], dim='lon')\n",
    "        vas_tmp_1.coords['lon'] = (vas_tmp_1.coords['lon'] + 180) % 360 - 180\n",
    "        vas_tmp_1 = Atools.data_sub(vas_tmp_1,-60,20,-30,30)\n",
    "        \n",
    "        vas_jja_mean = vas_tmp_1.sel(time=is_jja(vas_tmp_1['time.month'])).mean(dim='time')\n",
    "        vas_mean = vas_tmp_1.mean(dim='time')\n",
    "\n",
    "        vas_mean_model_jja_1[i,:,:] = vas_jja_mean.values\n",
    "        vas_mean_model_1[i,:,:] = vas_mean.values\n",
    "    except FileNotFoundError:\n",
    "        print('No file, pass')\n",
    "        vas_mean_model_jja_1[i,:,:] =np.ones((60,81))*np.nan\n",
    "        vas_mean_model_1[i,:,:] = np.ones((60,81))*np.nan\n",
    "    \n",
    "    ## SSP595 ##\n",
    "    try:\n",
    "        nc_tmp = xr.open_dataset(dir_ssp585_vas+'vas_Amon_'+model[i]+'_ssp585_r1i1p1f1_201501-209912_1deg.nc')\n",
    "        print(model[i])\n",
    "        vas_tmp_2 = nc_tmp.vas[:]\n",
    "        try:\n",
    "\n",
    "            vas_tmp_2 = vas_tmp_2.sel(time=slice(datetime(period_str_2, 1, 1), datetime(period_end_2, 12, 31)))\n",
    "        except TypeError:\n",
    "\n",
    "            vas_tmp_2['time'] = vas_tmp_2.indexes['time'].to_datetimeindex()\n",
    "            vas_tmp_2 = vas_tmp_2.sel(time=slice(datetime(period_str_2, 1, 1), datetime(period_end_2, 12, 31)))\n",
    "\n",
    "        vas_tmp_2 = xr.concat([vas_tmp_2[ :,:, 180:], vas_tmp_2[:, :, :180]], dim='lon')\n",
    "        vas_tmp_2.coords['lon'] = (vas_tmp_2.coords['lon'] + 180) % 360 - 180\n",
    "        vas_tmp_2 = Atools.data_sub(vas_tmp_2,-60,20,-30,30)\n",
    "        \n",
    "        vas_jja_mean = vas_tmp_2.sel(time=is_jja(vas_tmp_2['time.month'])).mean(dim='time')\n",
    "        vas_mean = vas_tmp_2.mean(dim='time')\n",
    "\n",
    "        vas_mean_model_jja_2[i,:,:] = vas_jja_mean.values\n",
    "        vas_mean_model_2[i,:,:] = vas_mean.values\n",
    "    except FileNotFoundError:\n",
    "        print('No file, pass')\n",
    "        vas_mean_model_jja_2[i] =np.ones((60,81))*np.nan\n",
    "        vas_mean_model_2[i] = np.ones((60,81))*np.nan\n",
    "    \n",
    "   "
   ]
  },
  {
   "cell_type": "code",
   "execution_count": 4,
   "metadata": {},
   "outputs": [],
   "source": [
    "\n",
    "vas_mean_model_1_dataset  = xr.Dataset({'jja_vas': (['model','lat','lon'],vas_mean_model_jja_1),\n",
    "                                       'vas': (['model','lat','lon'],vas_mean_model_1)}\n",
    "                           ,coords={'model': model,\n",
    "                                    'lon':np.array(vas_tmp_1.lon),\n",
    "                                   'lat':np.array(vas_tmp_1.lat)}\n",
    "\n",
    "                           ,attrs={'standard_name': 'vas',\n",
    "                                    'long_name': 'Mean vas',\n",
    "                                    'units': 'm/s',\n",
    "                                    'model': 'CMIP6',\n",
    "                                    'Scenario': 'Historical',\n",
    "                                    'Creation_date':date_time,   \n",
    "                                    'author': 'Arthur Prigent'})\n",
    "\n",
    "\n",
    "vas_mean_model_2_dataset  = xr.Dataset({'jja_vas': (['model','lat','lon'],vas_mean_model_jja_2),\n",
    "                                       'vas': (['model','lat','lon'],vas_mean_model_2)}\n",
    "                           ,coords={'model': model,\n",
    "                                    'lon':np.array(vas_tmp_2.lon),\n",
    "                                   'lat':np.array(vas_tmp_2.lat)}\n",
    "\n",
    "                           ,attrs={'standard_name': 'vas',\n",
    "                                    'long_name': 'Mean vas',\n",
    "                                    'units': 'm/s',\n",
    "                                    'model': 'CMIP6',\n",
    "                                    'Scenario': 'SSP585',\n",
    "                                    'Creation_date':date_time,   \n",
    "                                    'author': 'Arthur Prigent'})\n",
    "\n"
   ]
  },
  {
   "cell_type": "code",
   "execution_count": 5,
   "metadata": {},
   "outputs": [],
   "source": [
    "vas_mean_model_1_dataset.to_netcdf(path_data+'vas_mean_atl_JJA_diff_cmip6_hist.nc')\n",
    "vas_mean_model_2_dataset.to_netcdf(path_data+'vas_mean_atl_JJA_diff_cmip6_rcp85.nc')\n"
   ]
  },
  {
   "cell_type": "code",
   "execution_count": null,
   "metadata": {},
   "outputs": [],
   "source": []
  }
 ],
 "metadata": {
  "kernelspec": {
   "display_name": "Python 3 (ipykernel)",
   "language": "python",
   "name": "python3"
  },
  "language_info": {
   "codemirror_mode": {
    "name": "ipython",
    "version": 3
   },
   "file_extension": ".py",
   "mimetype": "text/x-python",
   "name": "python",
   "nbconvert_exporter": "python",
   "pygments_lexer": "ipython3",
   "version": "3.7.10"
  }
 },
 "nbformat": 4,
 "nbformat_minor": 2
}
