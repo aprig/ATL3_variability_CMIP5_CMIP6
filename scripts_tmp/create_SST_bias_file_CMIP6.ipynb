{
 "cells": [
  {
   "cell_type": "code",
   "execution_count": 1,
   "metadata": {},
   "outputs": [],
   "source": [
    "# Author : Arthur Prigent\n",
    "# Email: aprigent@geomar.de"
   ]
  },
  {
   "cell_type": "code",
   "execution_count": 7,
   "metadata": {},
   "outputs": [],
   "source": [
    "from load_librairies import *\n",
    "import xscale.signal.fitting as xsf\n",
    "\n",
    "dir_hist_sst = '/Volumes/Arthur_disk2/Data/CMIP6/Omon/historical/tos/atl3/'\n",
    "\n",
    "path_fig = '/Users/aprigent/Documents/Thesis_GEOMAR/Projects/weakened_sst_variability_CMIP5/figures/'\n",
    "lon_min = -20\n",
    "lon_max = 0\n",
    "lat_min = -3\n",
    "lat_max = 3\n",
    "now = datetime.now()\n",
    "date_time = now.strftime(\"%d/%m/%Y\")\n",
    "period_str_1 = 1950\n",
    "period_end_1 = 1999\n",
    "\n",
    "period_str_2 = 2050\n",
    "period_end_2 = 2099\n",
    "\n",
    "def nandetrend(y):\n",
    "    ''' Remove the linear trend from the data '''\n",
    "    x = np.arange(0,y.shape[0],1)\n",
    "    \n",
    "    not_nan_ind = ~np.isnan(y)\n",
    "    m, b, r_val, p_val, std_err = stats.linregress(x[not_nan_ind],np.array(y)[not_nan_ind])\n",
    "    \n",
    "    \n",
    "    y_detrended_tmp= np.array(y) - m*x\n",
    "    \n",
    "    y_detrended  = xr.Dataset({'detrended': (['time'],y_detrended_tmp)}\n",
    "                       ,coords={'time':y.time[:]})\n",
    "    return y_detrended\n",
    "\n",
    "def is_jja(month):\n",
    "    return (month >= 6) & (month <= 8)\n",
    "\n",
    "\n",
    "path_data = '/Users/aprigent/Documents/Thesis_GEOMAR/Projects/weakened_sst_variability_CMIP5/scripts/new_version/to_publish/data/'"
   ]
  },
  {
   "cell_type": "code",
   "execution_count": 2,
   "metadata": {},
   "outputs": [],
   "source": [
    "\n",
    "model = ['ACCESS-CM2',\n",
    "         'ACCESS-ESM1-5', 'BCC-CSM2-MR',\n",
    "         'CAMS-CSM1-0', 'CanESM5', 'EC-Earth3', 'EC-Earth3-Veg','GFDL-ESM4',\n",
    "         'INM-CM4-8', 'INM-CM5-0',\n",
    "         'IPSL-CM6A-LR', 'MIROC6', 'MPI-ESM1-2-HR', 'MPI-ESM1-2-LR', 'MRI-ESM2-0','NESM3']\n"
   ]
  },
  {
   "cell_type": "code",
   "execution_count": 3,
   "metadata": {},
   "outputs": [],
   "source": [
    "\n",
    "period_1_str = 1950\n",
    "period_1_end = 1999\n",
    "\n",
    "\n",
    "data_hadi = xr.open_dataset('/Users/aprigent/Documents/Thesis_GEOMAR/Data/HADI_SST/HadISST_sst.nc')\n",
    "data_hadi = data_hadi.where(data_hadi.sst < 100)\n",
    "data_hadi = data_hadi.where(data_hadi.sst >- 100)\n",
    "\n",
    "data_hadi = Atools.data_sub(data_hadi.sst,-20,0,-3,3)\n",
    "data_hadi = data_hadi.sel(time=slice(datetime(period_1_str, 1, 1),\n",
    "                                               datetime(period_1_end, 12, 31)))"
   ]
  },
  {
   "cell_type": "code",
   "execution_count": 4,
   "metadata": {},
   "outputs": [],
   "source": [
    "\n",
    "\n",
    "sst_hadi_mean = data_hadi.mean(dim='longitude').mean(dim='latitude')\n",
    "\n",
    "sst_hadi_dtd = nandetrend(sst_hadi_mean)\n",
    "sst_hadi_dtd_mean = sst_hadi_dtd.detrended.mean(dim='time')\n",
    "sst_hadi_jja_dtd_mean = sst_hadi_dtd.detrended.sel(time=is_jja(sst_hadi_dtd.detrended['time.month'])).mean(dim='time')"
   ]
  },
  {
   "cell_type": "markdown",
   "metadata": {},
   "source": [
    "# Historical"
   ]
  },
  {
   "cell_type": "code",
   "execution_count": 5,
   "metadata": {
    "scrolled": true
   },
   "outputs": [
    {
     "name": "stderr",
     "output_type": "stream",
     "text": [
      "/Users/aprigent/miniconda3/envs/py3_std/lib/python3.7/site-packages/ipykernel_launcher.py:13: RuntimeWarning: Converting a CFTimeIndex with dates from a non-standard calendar, 'noleap', to a pandas.DatetimeIndex, which uses dates from the standard calendar.  This may lead to subtle errors in operations that depend on the length of time between dates.\n",
      "  del sys.path[0]\n",
      "/Users/aprigent/miniconda3/envs/py3_std/lib/python3.7/site-packages/ipykernel_launcher.py:13: RuntimeWarning: Converting a CFTimeIndex with dates from a non-standard calendar, 'noleap', to a pandas.DatetimeIndex, which uses dates from the standard calendar.  This may lead to subtle errors in operations that depend on the length of time between dates.\n",
      "  del sys.path[0]\n",
      "/Users/aprigent/miniconda3/envs/py3_std/lib/python3.7/site-packages/ipykernel_launcher.py:13: RuntimeWarning: Converting a CFTimeIndex with dates from a non-standard calendar, 'noleap', to a pandas.DatetimeIndex, which uses dates from the standard calendar.  This may lead to subtle errors in operations that depend on the length of time between dates.\n",
      "  del sys.path[0]\n",
      "/Users/aprigent/miniconda3/envs/py3_std/lib/python3.7/site-packages/ipykernel_launcher.py:13: RuntimeWarning: Converting a CFTimeIndex with dates from a non-standard calendar, 'noleap', to a pandas.DatetimeIndex, which uses dates from the standard calendar.  This may lead to subtle errors in operations that depend on the length of time between dates.\n",
      "  del sys.path[0]\n",
      "/Users/aprigent/miniconda3/envs/py3_std/lib/python3.7/site-packages/ipykernel_launcher.py:13: RuntimeWarning: Converting a CFTimeIndex with dates from a non-standard calendar, 'noleap', to a pandas.DatetimeIndex, which uses dates from the standard calendar.  This may lead to subtle errors in operations that depend on the length of time between dates.\n",
      "  del sys.path[0]\n",
      "/Users/aprigent/miniconda3/envs/py3_std/lib/python3.7/site-packages/ipykernel_launcher.py:13: RuntimeWarning: Converting a CFTimeIndex with dates from a non-standard calendar, 'noleap', to a pandas.DatetimeIndex, which uses dates from the standard calendar.  This may lead to subtle errors in operations that depend on the length of time between dates.\n",
      "  del sys.path[0]\n",
      "/Users/aprigent/miniconda3/envs/py3_std/lib/python3.7/site-packages/ipykernel_launcher.py:13: RuntimeWarning: Converting a CFTimeIndex with dates from a non-standard calendar, 'noleap', to a pandas.DatetimeIndex, which uses dates from the standard calendar.  This may lead to subtle errors in operations that depend on the length of time between dates.\n",
      "  del sys.path[0]\n"
     ]
    }
   ],
   "source": [
    "\n",
    "sst_bias_jja = np.ones((len(model)))\n",
    "sst_bias = np.ones((len(model)))\n",
    "\n",
    "\n",
    "for i in range(0,len(model)):\n",
    "\n",
    "    sst = xr.open_dataset(dir_hist_sst+'tos_Omon_'+model[i]+'_historical_r1i1p1f1_187001-201412_1deg_atl3.nc')\n",
    "\n",
    "    try:\n",
    "\n",
    "        sst = sst.sel(time=slice(datetime(period_str_1, 1, 1), datetime(period_end_1, 12, 31)))\n",
    "    except TypeError:\n",
    "        sst['time'] = sst.indexes['time'].to_datetimeindex()\n",
    "        sst = sst.sel(time=slice(datetime(period_str_1, 1, 1), datetime(period_end_1, 12, 31))) \n",
    "    sst = sst.tos \n",
    "    sst = sst.mean(dim='lon').mean(dim='lat')\n",
    "    sst_dtd = nandetrend(sst)\n",
    "    \n",
    "    sst_dtd_jja_mean = sst_dtd.detrended.sel(time=is_jja(sst_dtd.detrended['time.month'])).mean(dim='time')\n",
    "    \n",
    "    sst_dtd_mean = sst_dtd.detrended.mean(dim='time')\n",
    "    sst_bias_jja[i] = sst_dtd_jja_mean - sst_hadi_jja_dtd_mean\n",
    "    sst_bias[i] = sst_dtd_mean- sst_hadi_dtd_mean\n",
    "    "
   ]
  },
  {
   "cell_type": "code",
   "execution_count": 9,
   "metadata": {},
   "outputs": [],
   "source": [
    "bias_jja_cmip6  = xr.Dataset({'bias': (['product'],sst_bias_jja),\n",
    "                       }\n",
    "                       ,coords={'product':model},attrs={'standard_name': 'JJA SST bias',\n",
    "                                    'long_name': 'JJA SST bias relative to HadISST 1950-99',\n",
    "                                    'units': 'K',\n",
    "                                    'model': 'CMIP6',\n",
    "                                    'Scenario': 'HIST',\n",
    "                                    'Creation_date':date_time,   \n",
    "                                    'author': 'Arthur Prigent'})\n",
    "\n",
    "bias_cmip6  = xr.Dataset({'bias': (['product'],sst_bias),\n",
    "                       }\n",
    "                       ,coords={'product':model},attrs={'standard_name': 'SST bias',\n",
    "                                    'long_name': 'SST bias relative to HadISST 1950-99',\n",
    "                                    'units': 'K',\n",
    "                                    'model': 'CMIP6',\n",
    "                                    'Scenario': 'SSP585',\n",
    "                                    'Creation_date':date_time,   \n",
    "                                    'author': 'Arthur Prigent'})\n",
    "\n"
   ]
  },
  {
   "cell_type": "code",
   "execution_count": 10,
   "metadata": {},
   "outputs": [],
   "source": [
    "\n",
    "bias_jja_cmip6.to_netcdf(path_data+'sst_bias_atl3_CMIP6_jja_dtd.nc')\n",
    "bias_cmip6.to_netcdf(path_data+'sst_bias_atl3_CMIP6_dtd.nc')\n",
    "\n"
   ]
  },
  {
   "cell_type": "code",
   "execution_count": null,
   "metadata": {},
   "outputs": [],
   "source": []
  }
 ],
 "metadata": {
  "kernelspec": {
   "display_name": "Python 3 (ipykernel)",
   "language": "python",
   "name": "python3"
  },
  "language_info": {
   "codemirror_mode": {
    "name": "ipython",
    "version": 3
   },
   "file_extension": ".py",
   "mimetype": "text/x-python",
   "name": "python",
   "nbconvert_exporter": "python",
   "pygments_lexer": "ipython3",
   "version": "3.7.10"
  }
 },
 "nbformat": 4,
 "nbformat_minor": 2
}
