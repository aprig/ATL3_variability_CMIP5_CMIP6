{
 "cells": [
  {
   "cell_type": "code",
   "execution_count": 1,
   "metadata": {},
   "outputs": [],
   "source": [
    "# Author : Arthur Prigent\n",
    "# Email: aprigent@geomar.de"
   ]
  },
  {
   "cell_type": "code",
   "execution_count": 2,
   "metadata": {},
   "outputs": [],
   "source": [
    "from load_librairies import *\n",
    "import xscale.signal.fitting as xsf\n",
    "\n",
    "dir_hist_sst = '/Volumes/Arthur_disk2/Data/CMIP6/Omon/historical/tos/atl3/'\n",
    "dir_hist_uas = '/Volumes/Arthur_disk2/Data/CMIP6/Amon/historical/uas/atl4/'\n",
    "\n",
    "dir_ssp585_sst = '/Volumes/Arthur_disk2/Data/CMIP6/Omon/ssp585/tos/atl3/'\n",
    "dir_ssp126_sst = '/Volumes/Arthur_disk2/Data/CMIP6/Omon/ssp126/tos/atl3/'\n",
    "dir_ssp245_sst = '/Volumes/Arthur_disk2/Data/CMIP6/Omon/ssp245/tos/atl3/'\n",
    "dir_ssp370_sst = '/Volumes/Arthur_disk2/Data/CMIP6/Omon/ssp370/tos/atl3/'\n",
    "\n",
    "dir_ssp585_uas = '/Volumes/Arthur_disk2/Data/CMIP6/Amon/ssp585/uas/atl4/'\n",
    "path_fig = '/Users/aprigent/Documents/Thesis_GEOMAR/Projects/weakened_sst_variability_CMIP5/figures/'\n",
    "lon_min = -20\n",
    "lon_max = 0\n",
    "lat_min = -3\n",
    "lat_max = 3\n",
    "\n",
    "period_str_1 = 1950\n",
    "period_end_1 = 1999\n",
    "\n",
    "period_str_2 = 2050\n",
    "period_end_2 = 2099\n",
    "now = datetime.now()\n",
    "date_time = now.strftime(\"%d/%m/%Y\")\n",
    "def nandetrend(y):\n",
    "    ''' Remove the linear trend from the data '''\n",
    "    x = np.arange(0,y.shape[0],1)\n",
    "    \n",
    "    not_nan_ind = ~np.isnan(y)\n",
    "    m, b, r_val, p_val, std_err = stats.linregress(x[not_nan_ind],np.array(y)[not_nan_ind])\n",
    "    \n",
    "    \n",
    "    y_detrended_tmp= np.array(y) - m*x\n",
    "    \n",
    "    y_detrended  = xr.Dataset({'detrended': (['time'],y_detrended_tmp)}\n",
    "                       ,coords={'time':y.time[:]})\n",
    "    return y_detrended\n",
    "\n",
    "def is_jja(month):\n",
    "    return (month >= 6) & (month <= 8)\n",
    "path_data = '/Users/aprigent/Documents/Thesis_GEOMAR/Projects/weakened_sst_variability_CMIP5/scripts/new_version/to_publish/data/'\n"
   ]
  },
  {
   "cell_type": "code",
   "execution_count": 3,
   "metadata": {},
   "outputs": [],
   "source": [
    "\n",
    "model = ['ACCESS-CM2',\n",
    "         'ACCESS-ESM1-5', 'BCC-CSM2-MR',\n",
    "         'CAMS-CSM1-0', 'CanESM5', 'EC-Earth3', 'EC-Earth3-Veg','FGOALS-f3-L','GFDL-ESM4',\n",
    "         'INM-CM4-8', 'INM-CM5-0',\n",
    "         'IPSL-CM6A-LR', 'MIROC6', 'MPI-ESM1-2-HR', 'MPI-ESM1-2-LR', 'MRI-ESM2-0','NESM3']\n"
   ]
  },
  {
   "cell_type": "code",
   "execution_count": 4,
   "metadata": {},
   "outputs": [
    {
     "name": "stdout",
     "output_type": "stream",
     "text": [
      "ACCESS-CM2\n",
      "ACCESS-CM2\n",
      "ACCESS-CM2\n",
      "ACCESS-CM2\n",
      "ACCESS-CM2\n",
      "ACCESS-ESM1-5\n",
      "ACCESS-ESM1-5\n",
      "ACCESS-ESM1-5\n",
      "ACCESS-ESM1-5\n",
      "ACCESS-ESM1-5\n",
      "BCC-CSM2-MR\n",
      "BCC-CSM2-MR\n",
      "BCC-CSM2-MR\n",
      "BCC-CSM2-MR\n"
     ]
    },
    {
     "name": "stderr",
     "output_type": "stream",
     "text": [
      "/Users/aprigent/miniconda3/envs/py3_std/lib/python3.7/site-packages/ipykernel_launcher.py:26: RuntimeWarning: Converting a CFTimeIndex with dates from a non-standard calendar, 'noleap', to a pandas.DatetimeIndex, which uses dates from the standard calendar.  This may lead to subtle errors in operations that depend on the length of time between dates.\n",
      "/Users/aprigent/miniconda3/envs/py3_std/lib/python3.7/site-packages/ipykernel_launcher.py:53: RuntimeWarning: Converting a CFTimeIndex with dates from a non-standard calendar, 'noleap', to a pandas.DatetimeIndex, which uses dates from the standard calendar.  This may lead to subtle errors in operations that depend on the length of time between dates.\n",
      "/Users/aprigent/miniconda3/envs/py3_std/lib/python3.7/site-packages/ipykernel_launcher.py:80: RuntimeWarning: Converting a CFTimeIndex with dates from a non-standard calendar, 'noleap', to a pandas.DatetimeIndex, which uses dates from the standard calendar.  This may lead to subtle errors in operations that depend on the length of time between dates.\n",
      "/Users/aprigent/miniconda3/envs/py3_std/lib/python3.7/site-packages/ipykernel_launcher.py:106: RuntimeWarning: Converting a CFTimeIndex with dates from a non-standard calendar, 'noleap', to a pandas.DatetimeIndex, which uses dates from the standard calendar.  This may lead to subtle errors in operations that depend on the length of time between dates.\n",
      "/Users/aprigent/miniconda3/envs/py3_std/lib/python3.7/site-packages/ipykernel_launcher.py:133: RuntimeWarning: Converting a CFTimeIndex with dates from a non-standard calendar, 'noleap', to a pandas.DatetimeIndex, which uses dates from the standard calendar.  This may lead to subtle errors in operations that depend on the length of time between dates.\n"
     ]
    },
    {
     "name": "stdout",
     "output_type": "stream",
     "text": [
      "BCC-CSM2-MR\n",
      "CAMS-CSM1-0\n",
      "CAMS-CSM1-0\n",
      "CAMS-CSM1-0\n",
      "CAMS-CSM1-0\n"
     ]
    },
    {
     "name": "stderr",
     "output_type": "stream",
     "text": [
      "/Users/aprigent/miniconda3/envs/py3_std/lib/python3.7/site-packages/ipykernel_launcher.py:26: RuntimeWarning: Converting a CFTimeIndex with dates from a non-standard calendar, 'noleap', to a pandas.DatetimeIndex, which uses dates from the standard calendar.  This may lead to subtle errors in operations that depend on the length of time between dates.\n",
      "/Users/aprigent/miniconda3/envs/py3_std/lib/python3.7/site-packages/ipykernel_launcher.py:53: RuntimeWarning: Converting a CFTimeIndex with dates from a non-standard calendar, 'noleap', to a pandas.DatetimeIndex, which uses dates from the standard calendar.  This may lead to subtle errors in operations that depend on the length of time between dates.\n",
      "/Users/aprigent/miniconda3/envs/py3_std/lib/python3.7/site-packages/ipykernel_launcher.py:80: RuntimeWarning: Converting a CFTimeIndex with dates from a non-standard calendar, 'noleap', to a pandas.DatetimeIndex, which uses dates from the standard calendar.  This may lead to subtle errors in operations that depend on the length of time between dates.\n",
      "/Users/aprigent/miniconda3/envs/py3_std/lib/python3.7/site-packages/ipykernel_launcher.py:106: RuntimeWarning: Converting a CFTimeIndex with dates from a non-standard calendar, 'noleap', to a pandas.DatetimeIndex, which uses dates from the standard calendar.  This may lead to subtle errors in operations that depend on the length of time between dates.\n",
      "/Users/aprigent/miniconda3/envs/py3_std/lib/python3.7/site-packages/ipykernel_launcher.py:133: RuntimeWarning: Converting a CFTimeIndex with dates from a non-standard calendar, 'noleap', to a pandas.DatetimeIndex, which uses dates from the standard calendar.  This may lead to subtle errors in operations that depend on the length of time between dates.\n"
     ]
    },
    {
     "name": "stdout",
     "output_type": "stream",
     "text": [
      "CAMS-CSM1-0\n",
      "CanESM5\n",
      "CanESM5\n",
      "CanESM5\n"
     ]
    },
    {
     "name": "stderr",
     "output_type": "stream",
     "text": [
      "/Users/aprigent/miniconda3/envs/py3_std/lib/python3.7/site-packages/ipykernel_launcher.py:26: RuntimeWarning: Converting a CFTimeIndex with dates from a non-standard calendar, 'noleap', to a pandas.DatetimeIndex, which uses dates from the standard calendar.  This may lead to subtle errors in operations that depend on the length of time between dates.\n",
      "/Users/aprigent/miniconda3/envs/py3_std/lib/python3.7/site-packages/ipykernel_launcher.py:53: RuntimeWarning: Converting a CFTimeIndex with dates from a non-standard calendar, 'noleap', to a pandas.DatetimeIndex, which uses dates from the standard calendar.  This may lead to subtle errors in operations that depend on the length of time between dates.\n",
      "/Users/aprigent/miniconda3/envs/py3_std/lib/python3.7/site-packages/ipykernel_launcher.py:80: RuntimeWarning: Converting a CFTimeIndex with dates from a non-standard calendar, 'noleap', to a pandas.DatetimeIndex, which uses dates from the standard calendar.  This may lead to subtle errors in operations that depend on the length of time between dates.\n"
     ]
    },
    {
     "name": "stdout",
     "output_type": "stream",
     "text": [
      "CanESM5\n",
      "CanESM5\n",
      "EC-Earth3\n",
      "EC-Earth3\n"
     ]
    },
    {
     "name": "stderr",
     "output_type": "stream",
     "text": [
      "/Users/aprigent/miniconda3/envs/py3_std/lib/python3.7/site-packages/ipykernel_launcher.py:106: RuntimeWarning: Converting a CFTimeIndex with dates from a non-standard calendar, 'noleap', to a pandas.DatetimeIndex, which uses dates from the standard calendar.  This may lead to subtle errors in operations that depend on the length of time between dates.\n",
      "/Users/aprigent/miniconda3/envs/py3_std/lib/python3.7/site-packages/ipykernel_launcher.py:133: RuntimeWarning: Converting a CFTimeIndex with dates from a non-standard calendar, 'noleap', to a pandas.DatetimeIndex, which uses dates from the standard calendar.  This may lead to subtle errors in operations that depend on the length of time between dates.\n"
     ]
    },
    {
     "name": "stdout",
     "output_type": "stream",
     "text": [
      "EC-Earth3\n",
      "EC-Earth3\n",
      "EC-Earth3\n",
      "EC-Earth3-Veg\n",
      "EC-Earth3-Veg\n",
      "EC-Earth3-Veg\n",
      "EC-Earth3-Veg\n",
      "EC-Earth3-Veg\n",
      "FGOALS-f3-L\n",
      "FGOALS-f3-L\n",
      "FGOALS-f3-L\n"
     ]
    },
    {
     "name": "stderr",
     "output_type": "stream",
     "text": [
      "/Users/aprigent/miniconda3/envs/py3_std/lib/python3.7/site-packages/ipykernel_launcher.py:26: RuntimeWarning: Converting a CFTimeIndex with dates from a non-standard calendar, 'noleap', to a pandas.DatetimeIndex, which uses dates from the standard calendar.  This may lead to subtle errors in operations that depend on the length of time between dates.\n",
      "/Users/aprigent/miniconda3/envs/py3_std/lib/python3.7/site-packages/ipykernel_launcher.py:53: RuntimeWarning: Converting a CFTimeIndex with dates from a non-standard calendar, 'noleap', to a pandas.DatetimeIndex, which uses dates from the standard calendar.  This may lead to subtle errors in operations that depend on the length of time between dates.\n",
      "/Users/aprigent/miniconda3/envs/py3_std/lib/python3.7/site-packages/ipykernel_launcher.py:80: RuntimeWarning: Converting a CFTimeIndex with dates from a non-standard calendar, 'noleap', to a pandas.DatetimeIndex, which uses dates from the standard calendar.  This may lead to subtle errors in operations that depend on the length of time between dates.\n",
      "/Users/aprigent/miniconda3/envs/py3_std/lib/python3.7/site-packages/ipykernel_launcher.py:133: RuntimeWarning: Converting a CFTimeIndex with dates from a non-standard calendar, 'noleap', to a pandas.DatetimeIndex, which uses dates from the standard calendar.  This may lead to subtle errors in operations that depend on the length of time between dates.\n"
     ]
    },
    {
     "name": "stdout",
     "output_type": "stream",
     "text": [
      "No file, pass\n",
      "FGOALS-f3-L\n",
      "GFDL-ESM4\n",
      "GFDL-ESM4\n",
      "GFDL-ESM4\n"
     ]
    },
    {
     "name": "stderr",
     "output_type": "stream",
     "text": [
      "/Users/aprigent/miniconda3/envs/py3_std/lib/python3.7/site-packages/ipykernel_launcher.py:26: RuntimeWarning: Converting a CFTimeIndex with dates from a non-standard calendar, 'noleap', to a pandas.DatetimeIndex, which uses dates from the standard calendar.  This may lead to subtle errors in operations that depend on the length of time between dates.\n",
      "/Users/aprigent/miniconda3/envs/py3_std/lib/python3.7/site-packages/ipykernel_launcher.py:53: RuntimeWarning: Converting a CFTimeIndex with dates from a non-standard calendar, 'noleap', to a pandas.DatetimeIndex, which uses dates from the standard calendar.  This may lead to subtle errors in operations that depend on the length of time between dates.\n",
      "/Users/aprigent/miniconda3/envs/py3_std/lib/python3.7/site-packages/ipykernel_launcher.py:80: RuntimeWarning: Converting a CFTimeIndex with dates from a non-standard calendar, 'noleap', to a pandas.DatetimeIndex, which uses dates from the standard calendar.  This may lead to subtle errors in operations that depend on the length of time between dates.\n",
      "/Users/aprigent/miniconda3/envs/py3_std/lib/python3.7/site-packages/ipykernel_launcher.py:106: RuntimeWarning: Converting a CFTimeIndex with dates from a non-standard calendar, 'noleap', to a pandas.DatetimeIndex, which uses dates from the standard calendar.  This may lead to subtle errors in operations that depend on the length of time between dates.\n"
     ]
    },
    {
     "name": "stdout",
     "output_type": "stream",
     "text": [
      "GFDL-ESM4\n",
      "No file, pass\n",
      "INM-CM4-8\n"
     ]
    },
    {
     "name": "stderr",
     "output_type": "stream",
     "text": [
      "/Users/aprigent/miniconda3/envs/py3_std/lib/python3.7/site-packages/ipykernel_launcher.py:26: RuntimeWarning: Converting a CFTimeIndex with dates from a non-standard calendar, 'noleap', to a pandas.DatetimeIndex, which uses dates from the standard calendar.  This may lead to subtle errors in operations that depend on the length of time between dates.\n",
      "/Users/aprigent/miniconda3/envs/py3_std/lib/python3.7/site-packages/ipykernel_launcher.py:53: RuntimeWarning: Converting a CFTimeIndex with dates from a non-standard calendar, 'noleap', to a pandas.DatetimeIndex, which uses dates from the standard calendar.  This may lead to subtle errors in operations that depend on the length of time between dates.\n",
      "/Users/aprigent/miniconda3/envs/py3_std/lib/python3.7/site-packages/ipykernel_launcher.py:80: RuntimeWarning: Converting a CFTimeIndex with dates from a non-standard calendar, 'noleap', to a pandas.DatetimeIndex, which uses dates from the standard calendar.  This may lead to subtle errors in operations that depend on the length of time between dates.\n"
     ]
    },
    {
     "name": "stdout",
     "output_type": "stream",
     "text": [
      "INM-CM4-8\n",
      "INM-CM4-8\n",
      "INM-CM4-8\n"
     ]
    },
    {
     "name": "stderr",
     "output_type": "stream",
     "text": [
      "/Users/aprigent/miniconda3/envs/py3_std/lib/python3.7/site-packages/ipykernel_launcher.py:106: RuntimeWarning: Converting a CFTimeIndex with dates from a non-standard calendar, 'noleap', to a pandas.DatetimeIndex, which uses dates from the standard calendar.  This may lead to subtle errors in operations that depend on the length of time between dates.\n",
      "/Users/aprigent/miniconda3/envs/py3_std/lib/python3.7/site-packages/ipykernel_launcher.py:133: RuntimeWarning: Converting a CFTimeIndex with dates from a non-standard calendar, 'noleap', to a pandas.DatetimeIndex, which uses dates from the standard calendar.  This may lead to subtle errors in operations that depend on the length of time between dates.\n",
      "/Users/aprigent/miniconda3/envs/py3_std/lib/python3.7/site-packages/ipykernel_launcher.py:26: RuntimeWarning: Converting a CFTimeIndex with dates from a non-standard calendar, 'noleap', to a pandas.DatetimeIndex, which uses dates from the standard calendar.  This may lead to subtle errors in operations that depend on the length of time between dates.\n"
     ]
    },
    {
     "name": "stdout",
     "output_type": "stream",
     "text": [
      "INM-CM4-8\n",
      "INM-CM5-0\n",
      "INM-CM5-0\n"
     ]
    },
    {
     "name": "stderr",
     "output_type": "stream",
     "text": [
      "/Users/aprigent/miniconda3/envs/py3_std/lib/python3.7/site-packages/ipykernel_launcher.py:53: RuntimeWarning: Converting a CFTimeIndex with dates from a non-standard calendar, 'noleap', to a pandas.DatetimeIndex, which uses dates from the standard calendar.  This may lead to subtle errors in operations that depend on the length of time between dates.\n",
      "/Users/aprigent/miniconda3/envs/py3_std/lib/python3.7/site-packages/ipykernel_launcher.py:80: RuntimeWarning: Converting a CFTimeIndex with dates from a non-standard calendar, 'noleap', to a pandas.DatetimeIndex, which uses dates from the standard calendar.  This may lead to subtle errors in operations that depend on the length of time between dates.\n",
      "/Users/aprigent/miniconda3/envs/py3_std/lib/python3.7/site-packages/ipykernel_launcher.py:106: RuntimeWarning: Converting a CFTimeIndex with dates from a non-standard calendar, 'noleap', to a pandas.DatetimeIndex, which uses dates from the standard calendar.  This may lead to subtle errors in operations that depend on the length of time between dates.\n",
      "/Users/aprigent/miniconda3/envs/py3_std/lib/python3.7/site-packages/ipykernel_launcher.py:133: RuntimeWarning: Converting a CFTimeIndex with dates from a non-standard calendar, 'noleap', to a pandas.DatetimeIndex, which uses dates from the standard calendar.  This may lead to subtle errors in operations that depend on the length of time between dates.\n"
     ]
    },
    {
     "name": "stdout",
     "output_type": "stream",
     "text": [
      "INM-CM5-0\n",
      "INM-CM5-0\n",
      "INM-CM5-0\n",
      "IPSL-CM6A-LR\n",
      "IPSL-CM6A-LR\n",
      "IPSL-CM6A-LR\n",
      "IPSL-CM6A-LR\n",
      "No file, pass\n",
      "MIROC6\n",
      "MIROC6\n",
      "MIROC6\n",
      "MIROC6\n",
      "MIROC6\n",
      "MPI-ESM1-2-HR\n",
      "MPI-ESM1-2-HR\n",
      "MPI-ESM1-2-HR\n",
      "MPI-ESM1-2-HR\n",
      "MPI-ESM1-2-HR\n",
      "MPI-ESM1-2-LR\n",
      "MPI-ESM1-2-LR\n",
      "MPI-ESM1-2-LR\n",
      "MPI-ESM1-2-LR\n",
      "MPI-ESM1-2-LR\n",
      "MRI-ESM2-0\n",
      "MRI-ESM2-0\n",
      "MRI-ESM2-0\n",
      "MRI-ESM2-0\n",
      "No file, pass\n",
      "NESM3\n",
      "NESM3\n",
      "NESM3\n",
      "NESM3\n",
      "No file, pass\n"
     ]
    },
    {
     "name": "stderr",
     "output_type": "stream",
     "text": [
      "/Users/aprigent/miniconda3/envs/py3_std/lib/python3.7/site-packages/ipykernel_launcher.py:26: RuntimeWarning: Converting a CFTimeIndex with dates from a non-standard calendar, 'noleap', to a pandas.DatetimeIndex, which uses dates from the standard calendar.  This may lead to subtle errors in operations that depend on the length of time between dates.\n",
      "/Users/aprigent/miniconda3/envs/py3_std/lib/python3.7/site-packages/ipykernel_launcher.py:53: RuntimeWarning: Converting a CFTimeIndex with dates from a non-standard calendar, 'noleap', to a pandas.DatetimeIndex, which uses dates from the standard calendar.  This may lead to subtle errors in operations that depend on the length of time between dates.\n",
      "/Users/aprigent/miniconda3/envs/py3_std/lib/python3.7/site-packages/ipykernel_launcher.py:80: RuntimeWarning: Converting a CFTimeIndex with dates from a non-standard calendar, 'noleap', to a pandas.DatetimeIndex, which uses dates from the standard calendar.  This may lead to subtle errors in operations that depend on the length of time between dates.\n",
      "/Users/aprigent/miniconda3/envs/py3_std/lib/python3.7/site-packages/ipykernel_launcher.py:106: RuntimeWarning: Converting a CFTimeIndex with dates from a non-standard calendar, 'noleap', to a pandas.DatetimeIndex, which uses dates from the standard calendar.  This may lead to subtle errors in operations that depend on the length of time between dates.\n"
     ]
    }
   ],
   "source": [
    "sst_mean_model_jja_1 = np.ones((len(model)))*np.nan\n",
    "sst_mean_model_jja_2 = np.ones((len(model)))*np.nan\n",
    "sst_mean_model_jja_3 = np.ones((len(model)))*np.nan\n",
    "sst_mean_model_jja_4 = np.ones((len(model)))*np.nan\n",
    "sst_mean_model_jja_5 = np.ones((len(model)))*np.nan\n",
    "\n",
    "sst_mean_model_1 = np.ones((len(model)))*np.nan\n",
    "sst_mean_model_2 = np.ones((len(model)))*np.nan\n",
    "sst_mean_model_3 = np.ones((len(model)))*np.nan\n",
    "sst_mean_model_4 = np.ones((len(model)))*np.nan\n",
    "sst_mean_model_5 = np.ones((len(model)))*np.nan\n",
    "\n",
    "\n",
    "for i in range(len(model)):\n",
    "    ## Historical ##\n",
    "    try:\n",
    "        nc_tmp = xr.open_dataset(dir_hist_sst+'tos_Omon_'+model[i]+'_historical_r1i1p1f1_187001-201412_1deg_atl3.nc')\n",
    "        print(model[i])\n",
    "        sst_tmp_1 = nc_tmp.tos[:] \n",
    "\n",
    "        try:\n",
    "\n",
    "            sst_tmp_1 = sst_tmp_1.sel(time=slice(datetime(period_str_1, 1, 1), datetime(period_end_1, 12, 31)))\n",
    "        except TypeError:\n",
    "\n",
    "            sst_tmp_1['time'] = sst_tmp_1.indexes['time'].to_datetimeindex()\n",
    "            sst_tmp_1 = sst_tmp_1.sel(time=slice(datetime(period_str_1, 1, 1), datetime(period_end_1, 12, 31)))\n",
    "\n",
    "\n",
    "        sst_tmp_1 = sst_tmp_1.mean(dim='lon').mean(dim='lat')\n",
    "        sst_jja_mean = sst_tmp_1.sel(time=is_jja(sst_tmp_1['time.month'])).mean(dim='time')\n",
    "        sst_mean = sst_tmp_1.mean(dim='time')\n",
    "\n",
    "        sst_mean_model_jja_1[i] = sst_jja_mean.values\n",
    "        sst_mean_model_1[i] = sst_mean.values\n",
    "\n",
    "    \n",
    "    except FileNotFoundError:\n",
    "        print('No file, pass')\n",
    "        sst_mean_model_jja_1[i] = np.nan\n",
    "        sst_mean_model_1[i] = np.nan\n",
    "    \n",
    "    ## RCP85 ##\n",
    "    try:\n",
    "        nc_tmp = xr.open_dataset(dir_ssp585_sst+'tos_Omon_'+model[i]+'_ssp585_r1i1p1f1_201501-209912_1deg_atl3.nc')\n",
    "        print(model[i])\n",
    "        sst_tmp_2 = nc_tmp.tos[:]\n",
    "        try:\n",
    "\n",
    "            sst_tmp_2 = sst_tmp_2.sel(time=slice(datetime(period_str_2, 1, 1), datetime(period_end_2, 12, 31)))\n",
    "        except TypeError:\n",
    "\n",
    "            sst_tmp_2['time'] = sst_tmp_2.indexes['time'].to_datetimeindex()\n",
    "            sst_tmp_2 = sst_tmp_2.sel(time=slice(datetime(period_str_2, 1, 1), datetime(period_end_2, 12, 31)))\n",
    "\n",
    "\n",
    "        sst_tmp_2 = sst_tmp_2.mean(dim='lon').mean(dim='lat')\n",
    "        sst_jja_mean = sst_tmp_2.sel(time=is_jja(sst_tmp_2['time.month'])).mean(dim='time')\n",
    "        sst_mean = sst_tmp_2.mean(dim='time')\n",
    "\n",
    "        sst_mean_model_jja_2[i] = sst_jja_mean.values\n",
    "        sst_mean_model_2[i] = sst_mean.values\n",
    "    except FileNotFoundError:\n",
    "        print('No file, pass')\n",
    "        sst_mean_model_jja_2[i] = np.nan\n",
    "        sst_mean_model_2[i] = np.nan\n",
    "    \n",
    "    \n",
    "    \n",
    "    ## RCP45 ##\n",
    "    try:\n",
    "        nc_tmp = xr.open_dataset(dir_ssp126_sst+'tos_Omon_'+model[i]+'_ssp126_r1i1p1f1_201501-209912_1deg_atl3.nc')\n",
    "        print(model[i])\n",
    "        sst_tmp_3 = nc_tmp.tos[:]\n",
    "        try:\n",
    "\n",
    "            sst_tmp_3 = sst_tmp_3.sel(time=slice(datetime(period_str_2, 1, 1), datetime(period_end_2, 12, 31)))\n",
    "        except TypeError:\n",
    "\n",
    "            sst_tmp_3['time'] = sst_tmp_3.indexes['time'].to_datetimeindex()\n",
    "            sst_tmp_3 = sst_tmp_3.sel(time=slice(datetime(period_str_2, 1, 1), datetime(period_end_2, 12, 31)))\n",
    "\n",
    "\n",
    "        sst_tmp_3 = sst_tmp_3.mean(dim='lon').mean(dim='lat')\n",
    "        sst_jja_mean = sst_tmp_3.sel(time=is_jja(sst_tmp_3['time.month'])).mean(dim='time')\n",
    "        sst_mean = sst_tmp_3.mean(dim='time')\n",
    "\n",
    "        sst_mean_model_jja_3[i] = sst_jja_mean.values\n",
    "        sst_mean_model_3[i] = sst_mean.values\n",
    "\n",
    "    except FileNotFoundError:\n",
    "        print('No file, pass')\n",
    "        sst_mean_model_jja_3[i] = np.nan\n",
    "        sst_mean_model_3[i] = np.nan\n",
    "    \n",
    "    ## SSP245 ##\n",
    "    try:\n",
    "        nc_tmp = xr.open_dataset(dir_ssp245_sst+'tos_Omon_'+model[i]+'_ssp245_r1i1p1f1_201501-209912_1deg_atl3.nc')\n",
    "        print(model[i])\n",
    "        sst_tmp_4 = nc_tmp.tos[:]\n",
    "        try:\n",
    "\n",
    "            sst_tmp_4 = sst_tmp_4.sel(time=slice(datetime(period_str_2, 1, 1), datetime(period_end_2, 12, 31)))\n",
    "        except TypeError:\n",
    "\n",
    "            sst_tmp_4['time'] = sst_tmp_4.indexes['time'].to_datetimeindex()\n",
    "            sst_tmp_4 = sst_tmp_4.sel(time=slice(datetime(period_str_2, 1, 1), datetime(period_end_2, 12, 31)))\n",
    "\n",
    "\n",
    "        sst_tmp_4 = sst_tmp_4.mean(dim='lon').mean(dim='lat')\n",
    "        sst_jja_mean = sst_tmp_4.sel(time=is_jja(sst_tmp_4['time.month'])).mean(dim='time')\n",
    "        sst_mean = sst_tmp_4.mean(dim='time')\n",
    "\n",
    "        sst_mean_model_jja_4[i] = sst_jja_mean.values\n",
    "        sst_mean_model_4[i] = sst_mean.values\n",
    "\n",
    "    except FileNotFoundError:\n",
    "        print('No file, pass')\n",
    "        sst_mean_model_jja_4[i] = np.nan\n",
    "        sst_mean_model_4[i] = np.nan\n",
    "    \n",
    "    \n",
    "    ## SSP370 ##\n",
    "    try:\n",
    "        nc_tmp = xr.open_dataset(dir_ssp370_sst+'tos_Omon_'+model[i]+'_ssp370_r1i1p1f1_201501-209912_1deg_atl3.nc')\n",
    "        print(model[i])\n",
    "        sst_tmp_5 = nc_tmp.tos[:]\n",
    "        try:\n",
    "\n",
    "            sst_tmp_5 = sst_tmp_5.sel(time=slice(datetime(period_str_2, 1, 1), datetime(period_end_2, 12, 31)))\n",
    "        except TypeError:\n",
    "\n",
    "            sst_tmp_5['time'] = sst_tmp_5.indexes['time'].to_datetimeindex()\n",
    "            sst_tmp_5 = sst_tmp_5.sel(time=slice(datetime(period_str_2, 1, 1), datetime(period_end_2, 12, 31)))\n",
    "\n",
    "\n",
    "        sst_tmp_5 = sst_tmp_5.mean(dim='lon').mean(dim='lat')\n",
    "        sst_jja_mean = sst_tmp_5.sel(time=is_jja(sst_tmp_5['time.month'])).mean(dim='time')\n",
    "        sst_mean = sst_tmp_5.mean(dim='time')\n",
    "\n",
    "        sst_mean_model_jja_5[i] = sst_jja_mean.values\n",
    "        sst_mean_model_5[i] = sst_mean.values\n",
    "\n",
    "    except FileNotFoundError:\n",
    "        print('No file, pass')\n",
    "        sst_mean_model_jja_5[i] = np.nan\n",
    "        sst_mean_model_5[i] = np.nan\n",
    "    "
   ]
  },
  {
   "cell_type": "code",
   "execution_count": 5,
   "metadata": {},
   "outputs": [],
   "source": [
    "\n",
    "monthly_sst_mean_model_1  = xr.Dataset({'jja_sst': (['model'],sst_mean_model_jja_1),\n",
    "                                       'sst': (['model'],sst_mean_model_1)}\n",
    "                           ,coords={'model': model}\n",
    "\n",
    "                           ,attrs={'standard_name': 'sst',\n",
    "                                    'long_name': 'Mean SST',\n",
    "                                    'units': 'K',\n",
    "                                    'model': 'CMIP5',\n",
    "                                    'Scenario': 'Historical',\n",
    "                                    'Creation_date':date_time,   \n",
    "                                    'author': 'Arthur Prigent'})\n",
    "\n",
    "monthly_sst_mean_model_2  = xr.Dataset({'jja_sst': (['model'],sst_mean_model_jja_2),\n",
    "                                       'sst': (['model'],sst_mean_model_2)}\n",
    "                           ,coords={'model': model}\n",
    "\n",
    "                           ,attrs={'standard_name': 'sst',\n",
    "                                    'long_name': 'Mean SST',\n",
    "                                    'units': 'K',\n",
    "                                    'model': 'CMIP5',\n",
    "                                    'Scenario': 'SSP585',\n",
    "                                    'Creation_date':date_time,   \n",
    "                                    'author': 'Arthur Prigent'})\n",
    "\n",
    "\n",
    "monthly_sst_mean_model_3  = xr.Dataset({'jja_sst': (['model'],sst_mean_model_jja_3),\n",
    "                                       'sst': (['model'],sst_mean_model_3)}\n",
    "                           ,coords={'model': model}\n",
    "\n",
    "                           ,attrs={'standard_name': 'sst',\n",
    "                                    'long_name': 'Mean SST',\n",
    "                                    'units': 'K',\n",
    "                                    'model': 'CMIP5',\n",
    "                                    'Scenario': 'SSP126',\n",
    "                                    'Creation_date':date_time,   \n",
    "                                    'author': 'Arthur Prigent'})\n",
    "\n",
    "monthly_sst_mean_model_4  = xr.Dataset({'jja_sst': (['model'],sst_mean_model_jja_4),\n",
    "                                       'sst': (['model'],sst_mean_model_4)}\n",
    "                           ,coords={'model': model}\n",
    "\n",
    "                           ,attrs={'standard_name': 'sst',\n",
    "                                    'long_name': 'Mean SST',\n",
    "                                    'units': 'K',\n",
    "                                    'model': 'CMIP5',\n",
    "                                    'Scenario': 'SSP245',\n",
    "                                    'Creation_date':date_time,   \n",
    "                                    'author': 'Arthur Prigent'})\n",
    "\n",
    "\n",
    "monthly_sst_mean_model_5  = xr.Dataset({'jja_sst': (['model'],sst_mean_model_jja_5),\n",
    "                                       'sst': (['model'],sst_mean_model_5)}\n",
    "                           ,coords={'model': model}\n",
    "\n",
    "                           ,attrs={'standard_name': 'sst',\n",
    "                                    'long_name': 'Mean SST',\n",
    "                                    'units': 'K',\n",
    "                                    'model': 'CMIP5',\n",
    "                                    'Scenario': 'SSP370',\n",
    "                                    'Creation_date':date_time,   \n",
    "                                    'author': 'Arthur Prigent'})\n"
   ]
  },
  {
   "cell_type": "code",
   "execution_count": 6,
   "metadata": {},
   "outputs": [],
   "source": [
    "monthly_sst_mean_model_1.to_netcdf(path_data+'mean_sst_hist_monthly_CMIP6.nc')\n",
    "monthly_sst_mean_model_2.to_netcdf(path_data+'mean_sst_ssp585_monthly_CMIP6.nc')\n",
    "monthly_sst_mean_model_3.to_netcdf(path_data+'mean_sst_ssp126_monthly_CMIP6.nc')\n",
    "monthly_sst_mean_model_4.to_netcdf(path_data+'mean_sst_ssp245_monthly_CMIP6.nc')\n",
    "monthly_sst_mean_model_5.to_netcdf(path_data+'mean_sst_ssp370_monthly_CMIP6.nc')\n"
   ]
  },
  {
   "cell_type": "code",
   "execution_count": null,
   "metadata": {},
   "outputs": [],
   "source": []
  }
 ],
 "metadata": {
  "kernelspec": {
   "display_name": "Python 3 (ipykernel)",
   "language": "python",
   "name": "python3"
  },
  "language_info": {
   "codemirror_mode": {
    "name": "ipython",
    "version": 3
   },
   "file_extension": ".py",
   "mimetype": "text/x-python",
   "name": "python",
   "nbconvert_exporter": "python",
   "pygments_lexer": "ipython3",
   "version": "3.7.10"
  }
 },
 "nbformat": 4,
 "nbformat_minor": 2
}
