{
 "cells": [
  {
   "cell_type": "code",
   "execution_count": 1,
   "metadata": {},
   "outputs": [],
   "source": [
    "# Author : Arthur Prigent\n",
    "# Email: aprigent@geomar.de"
   ]
  },
  {
   "cell_type": "code",
   "execution_count": 16,
   "metadata": {},
   "outputs": [],
   "source": [
    "from load_librairies import *\n",
    "import xscale.signal.fitting as xsf\n",
    "from mpl_toolkits.axes_grid1.inset_locator import inset_axes\n",
    "import seaborn as sns\n",
    "\n",
    "import warnings\n",
    "warnings.filterwarnings('ignore')\n",
    "lon_min = -40\n",
    "lon_max = 5\n",
    "lat_min = -3\n",
    "lat_max = 3\n",
    "\n",
    "period_str_1 = 1950\n",
    "period_end_1 = 1999\n",
    "\n",
    "period_str_2 = 2050\n",
    "period_end_2 = 2099\n",
    "\n",
    "def is_jja(month):\n",
    "    return (month >= 6) & (month <= 8)\n",
    "def is_mjj(month):\n",
    "    return (month >= 5) & (month <= 7)\n",
    "\n",
    "def relative_std(a, b):\n",
    "    return (a - b) / a\n",
    "\n",
    "######################\n",
    "#      TO CHANGE     # \n",
    "######################\n",
    "\n",
    "path_fig = '/Users/aprigent/Documents/Thesis_GEOMAR/Projects/weakened_sst_variability_CMIP5/figures/new_version/'\n",
    "path_data = '/Users/aprigent/Documents/Thesis_GEOMAR/Projects/weakened_sst_variability_CMIP5/scripts/new_version/to_publish/data/'\n"
   ]
  },
  {
   "cell_type": "markdown",
   "metadata": {},
   "source": [
    "# Figure S1 STD SSTa and uwinda changes"
   ]
  },
  {
   "cell_type": "code",
   "execution_count": 17,
   "metadata": {},
   "outputs": [],
   "source": [
    "std_ssta_atl3_hist_cmip5 = xr.open_dataset(path_data+'std_ssta_hist_monthly_CMIP5.nc')\n",
    "std_ssta_atl3_ssp5_cmip5 = xr.open_dataset(path_data+'std_ssta_ssp5_monthly_CMIP5.nc')\n",
    "\n",
    "std_ssta_atl3_hist_cmip6 = xr.open_dataset(path_data+'std_ssta_hist_monthly_CMIP6.nc')\n",
    "std_ssta_atl3_ssp5_cmip6 = xr.open_dataset(path_data+'std_ssta_ssp585_monthly_CMIP6.nc')"
   ]
  },
  {
   "cell_type": "code",
   "execution_count": 18,
   "metadata": {},
   "outputs": [],
   "source": [
    "\n",
    "std_uasa_atl4_hist_cmip6 = xr.open_dataset(path_data+'std_uasa_hist_monthly_CMIP6.nc')\n",
    "std_uasa_atl4_ssp5_cmip6 = xr.open_dataset(path_data+'std_uasa_ssp5_monthly_CMIP6.nc')\n",
    "\n",
    "std_uasa_atl4_hist_cmip5 = xr.open_dataset(path_data+'std_uasa_hist_monthly_CMIP5.nc')\n",
    "std_uasa_atl4_ssp5_cmip5 = xr.open_dataset(path_data+'std_uasa_ssp5_monthly_CMIP5.nc')\n"
   ]
  },
  {
   "cell_type": "code",
   "execution_count": 19,
   "metadata": {},
   "outputs": [],
   "source": [
    "std_ssta_atl3_hist_cmip5_jja_mean =  std_ssta_atl3_hist_cmip5.sel(month=is_jja(\n",
    "    std_ssta_atl3_hist_cmip5['month'])).mean(dim='month')\n",
    "\n",
    "std_ssta_atl3_ssp5_cmip5_jja_mean =  std_ssta_atl3_ssp5_cmip5.sel(month=is_jja(\n",
    "    std_ssta_atl3_ssp5_cmip5['month'])).mean(dim='month')\n",
    "\n",
    "std_ssta_atl3_hist_cmip6_jja_mean =  std_ssta_atl3_hist_cmip6.sel(month=is_jja(\n",
    "    std_ssta_atl3_hist_cmip6['month'])).mean(dim='month')\n",
    "\n",
    "std_ssta_atl3_ssp5_cmip6_jja_mean =  std_ssta_atl3_ssp5_cmip6.sel(month=is_jja(\n",
    "    std_ssta_atl3_ssp5_cmip6['month'])).mean(dim='month')"
   ]
  },
  {
   "cell_type": "code",
   "execution_count": 20,
   "metadata": {},
   "outputs": [],
   "source": [
    "std_uasa_atl4_hist_cmip5_mjj_mean =  std_uasa_atl4_hist_cmip5.sel(month=is_mjj(\n",
    "    std_uasa_atl4_hist_cmip5['month'])).mean(dim='month')\n",
    "\n",
    "std_uasa_atl4_ssp5_cmip5_mjj_mean =  std_uasa_atl4_ssp5_cmip5.sel(month=is_mjj(\n",
    "    std_uasa_atl4_ssp5_cmip5['month'])).mean(dim='month')\n",
    "\n",
    "std_uasa_atl4_hist_cmip6_mjj_mean =  std_uasa_atl4_hist_cmip6.sel(month=is_mjj(\n",
    "    std_uasa_atl4_hist_cmip6['month'])).mean(dim='month')\n",
    "\n",
    "std_uasa_atl4_ssp5_cmip6_mjj_mean =  std_uasa_atl4_ssp5_cmip6.sel(month=is_mjj(\n",
    "    std_uasa_atl4_ssp5_cmip6['month'])).mean(dim='month')"
   ]
  },
  {
   "cell_type": "code",
   "execution_count": 21,
   "metadata": {},
   "outputs": [],
   "source": [
    "std_ssta_atl3_ssp5_cmip6_jja_ensmean = std_ssta_atl3_ssp5_cmip6_jja_mean.mean(dim='model')\n",
    "std_ssta_atl3_hist_cmip6_jja_ensmean = std_ssta_atl3_hist_cmip6_jja_mean.mean(dim='model')\n",
    "\n",
    "\n",
    "std_ssta_atl3_ssp5_cmip5_jja_ensmean = std_ssta_atl3_ssp5_cmip5_jja_mean.mean(dim='model')\n",
    "std_ssta_atl3_hist_cmip5_jja_ensmean = std_ssta_atl3_hist_cmip5_jja_mean.mean(dim='model')"
   ]
  },
  {
   "cell_type": "code",
   "execution_count": 22,
   "metadata": {},
   "outputs": [],
   "source": [
    "std_uasa_atl4_ssp5_cmip6_mjj_ensmean = std_uasa_atl4_ssp5_cmip6_mjj_mean.mean(dim='model')\n",
    "std_uasa_atl4_hist_cmip6_mjj_ensmean = std_uasa_atl4_hist_cmip6_mjj_mean.mean(dim='model')\n",
    "\n",
    "\n",
    "std_uasa_atl4_ssp5_cmip5_mjj_ensmean = std_uasa_atl4_ssp5_cmip5_mjj_mean.mean(dim='model')\n",
    "std_uasa_atl4_hist_cmip5_mjj_ensmean = std_uasa_atl4_hist_cmip5_mjj_mean.mean(dim='model')"
   ]
  },
  {
   "cell_type": "code",
   "execution_count": 23,
   "metadata": {},
   "outputs": [],
   "source": [
    "std_ssta_ensmean_cmip6 = std_ssta_atl3_ssp5_cmip6_jja_ensmean - std_ssta_atl3_hist_cmip6_jja_ensmean\n",
    "\n",
    "std_uasa_ensmean_cmip6 = std_uasa_atl4_ssp5_cmip6_mjj_ensmean - std_uasa_atl4_hist_cmip6_mjj_ensmean\n",
    "\n",
    "\n",
    "std_ssta_ensmean_cmip5 = std_ssta_atl3_ssp5_cmip5_jja_ensmean - std_ssta_atl3_hist_cmip5_jja_ensmean\n",
    "\n",
    "std_uasa_ensmean_cmip5 = std_uasa_atl4_ssp5_cmip5_mjj_ensmean - std_uasa_atl4_hist_cmip5_mjj_ensmean"
   ]
  },
  {
   "cell_type": "code",
   "execution_count": 24,
   "metadata": {},
   "outputs": [],
   "source": [
    "std_ssta_atl3_change_jja_cmip5 =std_ssta_atl3_ssp5_cmip5_jja_mean - std_ssta_atl3_hist_cmip5_jja_mean\n",
    "\n",
    "std_uasa_atl4_change_mjj_cmip5 = std_uasa_atl4_ssp5_cmip5_mjj_mean - std_uasa_atl4_hist_cmip5_mjj_mean\n",
    "\n",
    "\n",
    "std_ssta_atl3_change_jja_cmip6 =std_ssta_atl3_ssp5_cmip6_jja_mean - std_ssta_atl3_hist_cmip6_jja_mean\n",
    "\n",
    "std_uasa_atl4_change_mjj_cmip6 = std_uasa_atl4_ssp5_cmip6_mjj_mean - std_uasa_atl4_hist_cmip6_mjj_mean"
   ]
  },
  {
   "cell_type": "code",
   "execution_count": 25,
   "metadata": {},
   "outputs": [],
   "source": [
    "std_ssta_combined_jja = np.hstack([std_ssta_atl3_change_jja_cmip6.ssta_std.values,\n",
    "                              std_ssta_atl3_change_jja_cmip5.ssta_std.values])\n",
    "std_uasa_combined_mjj = np.hstack([std_uasa_atl4_change_mjj_cmip6.uasa_std.values,\n",
    "                              std_uasa_atl4_change_mjj_cmip5.uasa_std.values])"
   ]
  },
  {
   "cell_type": "code",
   "execution_count": 26,
   "metadata": {},
   "outputs": [],
   "source": [
    "alpha0, interp0, r0, p_value0, std0 = stats.linregress(std_uasa_combined_mjj,std_ssta_combined_jja)"
   ]
  },
  {
   "cell_type": "code",
   "execution_count": 27,
   "metadata": {},
   "outputs": [],
   "source": [
    "x0 = np.arange(-0.7,0.4,0.1)\n",
    "y0 = x0*alpha0 + interp0\n",
    "n_replicate = 10000\n",
    "N = std_uasa_combined_mjj.shape[0]\n",
    "\n",
    "index = list(range(N))\n",
    "\n",
    "result = []\n",
    "#\n",
    "for i in range(n_replicate):\n",
    "    ind_resample = np.random.choice(index, N)\n",
    "    result.append(stats.linregress(std_uasa_combined_mjj[ind_resample],\n",
    "                                   std_ssta_combined_jja[ind_resample])[:2]\n",
    "    )\n",
    "#\n",
    "result = np.array(result)\n",
    "y_hat_distr = result[:, 0] * x0[:, np.newaxis] + result[:, 1]\n",
    "ci_forecast_uasa_ssta = np.percentile(y_hat_distr, (2.5, 97.5), axis=-1)"
   ]
  },
  {
   "cell_type": "code",
   "execution_count": 28,
   "metadata": {},
   "outputs": [
    {
     "data": {
      "text/plain": [
       "Text(0.03, 0.97, '$s=0.43$ $\\\\pm$ 0.10 K$\\\\cdot$(m$\\\\cdot$s$^{-1}$)$^{-1}$\\n$R^{2}=0.33$\\np-value < 0.01')"
      ]
     },
     "execution_count": 28,
     "metadata": {},
     "output_type": "execute_result"
    },
    {
     "data": {
      "image/png": "[encoded data removed]",
      "text/plain": [
       "<Figure size 360x360 with 1 Axes>"
      ]
     },
     "metadata": {
      "needs_background": "light"
     },
     "output_type": "display_data"
    }
   ],
   "source": [
    "f,ax = plt.subplots(1,1,figsize=[5,5])\n",
    "x0 = np.arange(-0.7,0.4,0.1)\n",
    "y0 = x0*alpha0 + interp0\n",
    "m_cmip6 = np.arange(0,std_ssta_atl3_hist_cmip6_jja_mean.ssta_std.shape[0],1)\n",
    "m_cmip5 = np.arange(std_ssta_atl3_hist_cmip6_jja_mean.ssta_std.shape[0],\n",
    "                    std_ssta_atl3_hist_cmip6_jja_mean.ssta_std.shape[0] + \n",
    "                    std_ssta_atl3_change_jja_cmip5.ssta_std.shape[0],1)\n",
    "ax.plot(x0,y0,linewidth=3,color='green')\n",
    "\n",
    "ax.plot(x0, ci_forecast_uasa_ssta[0], 'green')\n",
    "ax.plot(x0, ci_forecast_uasa_ssta[1], 'green')\n",
    "ax.fill_between(x0,y0,ci_forecast_uasa_ssta[0],color='green',alpha=0.15)\n",
    "ax.fill_between(x0,y0,ci_forecast_uasa_ssta[1],color='green',alpha=0.15)\n",
    "\n",
    "\n",
    "\n",
    "ftz=15\n",
    "\n",
    "ax.scatter(std_uasa_ensmean_cmip6.uasa_std,std_ssta_ensmean_cmip6.ssta_std,color='blue',s=150,\n",
    "           edgecolors='black')\n",
    "\n",
    "ax.scatter(std_uasa_ensmean_cmip5.uasa_std,std_ssta_ensmean_cmip5.ssta_std,color='red',s=150,\n",
    "           edgecolors='black')\n",
    "\n",
    "for i in range(std_ssta_atl3_hist_cmip6_jja_mean.model.shape[0]):\n",
    "    if i<10:\n",
    "        ax.scatter(std_uasa_atl4_change_mjj_cmip6.uasa_std[i],std_ssta_atl3_change_jja_cmip6.ssta_std[i],color='blue',\n",
    "              marker=r\"$ {} $\".format(m_cmip6[i]),s=50)\n",
    "    else:\n",
    "        ax.scatter(std_uasa_atl4_change_mjj_cmip6.uasa_std[i],std_ssta_atl3_change_jja_cmip6.ssta_std[i],color='blue',\n",
    "              marker=r\"$ {} $\".format(m_cmip6[i]),s=100)\n",
    "\n",
    "for k in range(std_ssta_atl3_hist_cmip5_jja_mean.model.shape[0]):\n",
    "    ax.scatter(std_uasa_atl4_change_mjj_cmip5.uasa_std[k],std_ssta_atl3_change_jja_cmip5.ssta_std[k],color='red',\n",
    "              marker=r\"$ {} $\".format(m_cmip5[k]),s=100)\n",
    "    \n",
    "ax.set_xlabel('MJJ ATL4 std UASa change [m$\\cdot$s$^{-1}$]',fontsize=ftz,fontweight='bold')\n",
    "ax.set_ylabel('JJA ATL3 std SSTa change [K]',fontsize=ftz,fontweight='bold')\n",
    "ax.tick_params(labelsize=ftz)\n",
    "ax.set_xlim([-0.6,0.2])\n",
    "ax.set_ylim([-0.3,0.3])\n",
    "\n",
    "ax.axhline(0,color='black')\n",
    "ax.axvline(0,color='black')\n",
    "\n",
    "textstr = '\\n'.join((r'$s=%.2f$ $\\pm$ %.2f K$\\cdot$(m$\\cdot$s$^{-1}$)$^{-1}$' %\n",
    "                     (alpha0, std0),\n",
    "                     r'$R^{2}=%.2f$' % (r0**2, ),\n",
    "                    'p-value < 0.01'))\n",
    "props = dict(boxstyle='round', facecolor='white', ec='green', lw=2)\n",
    "\n",
    "# place a text box in upper left in axes coords\n",
    "ax.text(0.03,\n",
    "         0.97,\n",
    "         textstr,\n",
    "         transform=ax.transAxes,\n",
    "         fontsize=ftz-5,\n",
    "         verticalalignment='top',\n",
    "         bbox=props)\n",
    "\n",
    "\n",
    "#plt.savefig(path_fig + 'figure_S1.png',\n",
    "#             dpi = 300,\n",
    "#            bbox_inches='tight')"
   ]
  },
  {
   "cell_type": "code",
   "execution_count": null,
   "metadata": {},
   "outputs": [],
   "source": []
  }
 ],
 "metadata": {
  "kernelspec": {
   "display_name": "Python 3 (ipykernel)",
   "language": "python",
   "name": "python3"
  },
  "language_info": {
   "codemirror_mode": {
    "name": "ipython",
    "version": 3
   },
   "file_extension": ".py",
   "mimetype": "text/x-python",
   "name": "python",
   "nbconvert_exporter": "python",
   "pygments_lexer": "ipython3",
   "version": "3.7.10"
  }
 },
 "nbformat": 4,
 "nbformat_minor": 4
}
